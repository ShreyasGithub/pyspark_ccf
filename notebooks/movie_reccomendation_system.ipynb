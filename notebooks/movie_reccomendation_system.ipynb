{
 "cells": [
  {
   "cell_type": "code",
   "execution_count": 1,
   "metadata": {},
   "outputs": [
    {
     "data": {
      "text/plain": [
       "'/var/www/py_spark_ccf/notebooks'"
      ]
     },
     "execution_count": 1,
     "metadata": {},
     "output_type": "execute_result"
    }
   ],
   "source": [
    "%config Completer.use_jedi = False\n",
    "\n",
    "from pyspark.sql import SparkSession\n",
    "import numpy\n",
    "import pandas\n",
    "\n",
    "import os\n",
    "os.environ['PYSPARK_PYTHON'] = '/var/www/py_spark_ccf/PY_SPARK_CCF_ENV/bin/python3'\n",
    "os.environ['PYSPARK_DRIVER_PYTHON'] = '/var/www/py_spark_ccf/PY_SPARK_CCF_ENV/bin/python3'\n",
    "os.getcwd()"
   ]
  },
  {
   "cell_type": "code",
   "execution_count": 2,
   "metadata": {},
   "outputs": [],
   "source": [
    "spark_session = SparkSession.builder.master(\"spark://costrategix-pc:7077\")\\\n",
    "    .appName('movie_reccomendation_system').getOrCreate()"
   ]
  },
  {
   "cell_type": "code",
   "execution_count": 3,
   "metadata": {},
   "outputs": [
    {
     "data": {
      "text/plain": [
       "[('spark.driver.memory', '18g'),\n",
       " ('spark.app.startTime', '1617509746582'),\n",
       " ('spark.app.name', 'movie_reccomendation_system'),\n",
       " ('spark.rdd.compress', 'True'),\n",
       " ('spark.driver.port', '39077'),\n",
       " ('spark.serializer.objectStreamReset', '100'),\n",
       " ('spark.master', 'spark://costrategix-pc:7077'),\n",
       " ('spark.submit.pyFiles', ''),\n",
       " ('spark.executor.id', 'driver'),\n",
       " ('spark.submit.deployMode', 'client'),\n",
       " ('spark.app.id', 'app-20210404094547-0002'),\n",
       " ('spark.driver.host', '192.168.0.7'),\n",
       " ('spark.ui.showConsoleProgress', 'true')]"
      ]
     },
     "execution_count": 3,
     "metadata": {},
     "output_type": "execute_result"
    }
   ],
   "source": [
    "spark_session.sparkContext.getConf().getAll()"
   ]
  },
  {
   "cell_type": "code",
   "execution_count": 4,
   "metadata": {},
   "outputs": [],
   "source": [
    "ratings_data_frame = spark_session.read.csv('../data/ratings.csv', inferSchema=True, header=True)"
   ]
  },
  {
   "cell_type": "code",
   "execution_count": 5,
   "metadata": {},
   "outputs": [
    {
     "data": {
      "text/plain": [
       "26024289"
      ]
     },
     "execution_count": 5,
     "metadata": {},
     "output_type": "execute_result"
    }
   ],
   "source": [
    "ratings_data_frame.count()"
   ]
  },
  {
   "cell_type": "code",
   "execution_count": 6,
   "metadata": {},
   "outputs": [
    {
     "name": "stdout",
     "output_type": "stream",
     "text": [
      "root\n",
      " |-- userId: integer (nullable = true)\n",
      " |-- movieId: integer (nullable = true)\n",
      " |-- rating: double (nullable = true)\n",
      " |-- timestamp: integer (nullable = true)\n",
      "\n"
     ]
    }
   ],
   "source": [
    "ratings_data_frame.printSchema()"
   ]
  },
  {
   "cell_type": "code",
   "execution_count": 7,
   "metadata": {},
   "outputs": [
    {
     "name": "stdout",
     "output_type": "stream",
     "text": [
      "-RECORD 0---------------\n",
      " userId    | 1          \n",
      " movieId   | 110        \n",
      " rating    | 1.0        \n",
      " timestamp | 1425941529 \n",
      "-RECORD 1---------------\n",
      " userId    | 1          \n",
      " movieId   | 147        \n",
      " rating    | 4.5        \n",
      " timestamp | 1425942435 \n",
      "-RECORD 2---------------\n",
      " userId    | 1          \n",
      " movieId   | 858        \n",
      " rating    | 5.0        \n",
      " timestamp | 1425941523 \n",
      "-RECORD 3---------------\n",
      " userId    | 1          \n",
      " movieId   | 1221       \n",
      " rating    | 5.0        \n",
      " timestamp | 1425941546 \n",
      "-RECORD 4---------------\n",
      " userId    | 1          \n",
      " movieId   | 1246       \n",
      " rating    | 5.0        \n",
      " timestamp | 1425941556 \n",
      "only showing top 5 rows\n",
      "\n"
     ]
    }
   ],
   "source": [
    "ratings_data_frame.show(vertical=True, n=5)"
   ]
  },
  {
   "cell_type": "code",
   "execution_count": 8,
   "metadata": {},
   "outputs": [
    {
     "data": {
      "text/plain": [
       "26024289"
      ]
     },
     "execution_count": 8,
     "metadata": {},
     "output_type": "execute_result"
    }
   ],
   "source": [
    "ratings_data_frame = ratings_data_frame.dropna()\n",
    "ratings_data_frame.count()"
   ]
  },
  {
   "cell_type": "code",
   "execution_count": 9,
   "metadata": {},
   "outputs": [
    {
     "data": {
      "text/plain": [
       "270896"
      ]
     },
     "execution_count": 9,
     "metadata": {},
     "output_type": "execute_result"
    }
   ],
   "source": [
    "ratings_data_frame.select('userId').distinct().count()"
   ]
  },
  {
   "cell_type": "code",
   "execution_count": 10,
   "metadata": {},
   "outputs": [
    {
     "data": {
      "text/plain": [
       "45115"
      ]
     },
     "execution_count": 10,
     "metadata": {},
     "output_type": "execute_result"
    }
   ],
   "source": [
    "ratings_data_frame.select('movieId').distinct().count()"
   ]
  },
  {
   "cell_type": "code",
   "execution_count": 11,
   "metadata": {},
   "outputs": [
    {
     "data": {
      "text/plain": [
       "636"
      ]
     },
     "execution_count": 11,
     "metadata": {},
     "output_type": "execute_result"
    }
   ],
   "source": [
    "ratings_data_frame.createOrReplaceTempView(\"table1\")\n",
    "spark_session.sql(\"\"\"\n",
    "select movieId from table1\n",
    "group by movieId having count(*) > 10000;\n",
    "\"\"\").count()"
   ]
  },
  {
   "cell_type": "code",
   "execution_count": 12,
   "metadata": {},
   "outputs": [],
   "source": [
    "movie_row_list = spark_session.sql(\"\"\"\n",
    "select movieId from table1\n",
    "group by movieId having count(*) > 10000;\n",
    "\"\"\").collect()\n",
    "\n",
    "movie_list = [row['movieId'] for row in movie_row_list]"
   ]
  },
  {
   "cell_type": "code",
   "execution_count": 13,
   "metadata": {},
   "outputs": [],
   "source": [
    "ratings_data_frame = ratings_data_frame.filter(ratings_data_frame['movieId'].isin(movie_list))"
   ]
  },
  {
   "cell_type": "code",
   "execution_count": 14,
   "metadata": {},
   "outputs": [
    {
     "data": {
      "text/plain": [
       "13202956"
      ]
     },
     "execution_count": 14,
     "metadata": {},
     "output_type": "execute_result"
    }
   ],
   "source": [
    "ratings_data_frame.count()"
   ]
  },
  {
   "cell_type": "code",
   "execution_count": 15,
   "metadata": {},
   "outputs": [
    {
     "data": {
      "text/plain": [
       "2502"
      ]
     },
     "execution_count": 15,
     "metadata": {},
     "output_type": "execute_result"
    }
   ],
   "source": [
    "spark_session.sql(\"\"\"\n",
    "select userId from table1\n",
    "group by userId having count(*) > 1000;\n",
    "\"\"\").count()"
   ]
  },
  {
   "cell_type": "code",
   "execution_count": 16,
   "metadata": {},
   "outputs": [],
   "source": [
    "user_row_list = spark_session.sql(\"\"\"\n",
    "select userId from table1\n",
    "group by userId having count(*) > 1000;\n",
    "\"\"\").collect()\n",
    "\n",
    "user_list = [row['userId'] for row in user_row_list]"
   ]
  },
  {
   "cell_type": "code",
   "execution_count": 17,
   "metadata": {},
   "outputs": [],
   "source": [
    "ratings_data_frame = ratings_data_frame.filter(ratings_data_frame['userId'].isin(user_list))"
   ]
  },
  {
   "cell_type": "code",
   "execution_count": 18,
   "metadata": {},
   "outputs": [
    {
     "data": {
      "text/plain": [
       "995218"
      ]
     },
     "execution_count": 18,
     "metadata": {},
     "output_type": "execute_result"
    }
   ],
   "source": [
    "ratings_data_frame.count()"
   ]
  },
  {
   "cell_type": "code",
   "execution_count": 19,
   "metadata": {},
   "outputs": [],
   "source": [
    "train_data, test_data = ratings_data_frame.randomSplit([0.7, 0.3])"
   ]
  },
  {
   "cell_type": "code",
   "execution_count": 20,
   "metadata": {},
   "outputs": [],
   "source": [
    "from pyspark.ml.recommendation import ALS\n",
    "model = ALS(maxIter=10, userCol=\"userId\", itemCol=\"movieId\", ratingCol=\"rating\")"
   ]
  },
  {
   "cell_type": "code",
   "execution_count": 21,
   "metadata": {},
   "outputs": [],
   "source": [
    "model = model.fit(train_data)"
   ]
  },
  {
   "cell_type": "code",
   "execution_count": 22,
   "metadata": {},
   "outputs": [
    {
     "data": {
      "text/plain": [
       "[Row(userId=229, movieId=2, rating=3.0, timestamp=1037827385)]"
      ]
     },
     "execution_count": 22,
     "metadata": {},
     "output_type": "execute_result"
    }
   ],
   "source": [
    "test_data.head(1)"
   ]
  },
  {
   "cell_type": "code",
   "execution_count": 23,
   "metadata": {},
   "outputs": [],
   "source": [
    "test_user_data = test_data.filter(test_data['userId'] == 229)"
   ]
  },
  {
   "cell_type": "code",
   "execution_count": 24,
   "metadata": {},
   "outputs": [
    {
     "data": {
      "text/plain": [
       "[Row(userId=229, movieId=2, rating=3.0, timestamp=1037827385),\n",
       " Row(userId=229, movieId=16, rating=3.0, timestamp=1037829658),\n",
       " Row(userId=229, movieId=47, rating=2.0, timestamp=1037136477),\n",
       " Row(userId=229, movieId=50, rating=4.0, timestamp=1037825980),\n",
       " Row(userId=229, movieId=104, rating=2.0, timestamp=1037827898),\n",
       " Row(userId=229, movieId=172, rating=3.0, timestamp=1039723754),\n",
       " Row(userId=229, movieId=173, rating=2.0, timestamp=1037831665),\n",
       " Row(userId=229, movieId=185, rating=2.0, timestamp=1037828727),\n",
       " Row(userId=229, movieId=231, rating=2.0, timestamp=1037037105),\n",
       " Row(userId=229, movieId=235, rating=3.0, timestamp=1037829509),\n",
       " Row(userId=229, movieId=253, rating=2.0, timestamp=1037827711),\n",
       " Row(userId=229, movieId=260, rating=3.0, timestamp=1037128254),\n",
       " Row(userId=229, movieId=277, rating=1.0, timestamp=1037831280),\n",
       " Row(userId=229, movieId=292, rating=3.0, timestamp=1037828596),\n",
       " Row(userId=229, movieId=293, rating=5.0, timestamp=1037826148),\n",
       " Row(userId=229, movieId=296, rating=4.0, timestamp=1037029622),\n",
       " Row(userId=229, movieId=300, rating=3.0, timestamp=1037826217),\n",
       " Row(userId=229, movieId=317, rating=3.0, timestamp=1037827711),\n",
       " Row(userId=229, movieId=349, rating=2.0, timestamp=1038333670),\n",
       " Row(userId=229, movieId=377, rating=3.0, timestamp=1037826699),\n",
       " Row(userId=229, movieId=410, rating=2.0, timestamp=1037889775),\n",
       " Row(userId=229, movieId=432, rating=1.0, timestamp=1037831280),\n",
       " Row(userId=229, movieId=435, rating=2.0, timestamp=1037831226),\n",
       " Row(userId=229, movieId=442, rating=3.0, timestamp=1037830839),\n",
       " Row(userId=229, movieId=457, rating=2.0, timestamp=1037826217),\n",
       " Row(userId=229, movieId=480, rating=3.0, timestamp=1037826828),\n",
       " Row(userId=229, movieId=500, rating=2.0, timestamp=1037029955),\n",
       " Row(userId=229, movieId=555, rating=3.0, timestamp=1037029709),\n",
       " Row(userId=229, movieId=586, rating=2.0, timestamp=1037828170),\n",
       " Row(userId=229, movieId=596, rating=3.0, timestamp=1039632817),\n",
       " Row(userId=229, movieId=597, rating=2.0, timestamp=1037827711),\n",
       " Row(userId=229, movieId=708, rating=2.0, timestamp=1037138212),\n",
       " Row(userId=229, movieId=778, rating=4.0, timestamp=1037136765),\n",
       " Row(userId=229, movieId=784, rating=3.0, timestamp=1037827898),\n",
       " Row(userId=229, movieId=858, rating=4.0, timestamp=1040329071),\n",
       " Row(userId=229, movieId=919, rating=4.0, timestamp=1037819961),\n",
       " Row(userId=229, movieId=920, rating=4.0, timestamp=1038333329),\n",
       " Row(userId=229, movieId=1035, rating=3.0, timestamp=1037029854),\n",
       " Row(userId=229, movieId=1080, rating=3.0, timestamp=1037903826),\n",
       " Row(userId=229, movieId=1084, rating=4.0, timestamp=1037823761),\n",
       " Row(userId=229, movieId=1090, rating=4.0, timestamp=1037824167),\n",
       " Row(userId=229, movieId=1120, rating=4.0, timestamp=1037826267),\n",
       " Row(userId=229, movieId=1193, rating=5.0, timestamp=1037029598),\n",
       " Row(userId=229, movieId=1203, rating=5.0, timestamp=1037818872),\n",
       " Row(userId=229, movieId=1219, rating=4.0, timestamp=1037822397),\n",
       " Row(userId=229, movieId=1247, rating=4.0, timestamp=1037822397),\n",
       " Row(userId=229, movieId=1258, rating=4.0, timestamp=1037824078),\n",
       " Row(userId=229, movieId=1259, rating=4.0, timestamp=1037824228),\n",
       " Row(userId=229, movieId=1263, rating=5.0, timestamp=1037995420),\n",
       " Row(userId=229, movieId=1265, rating=3.0, timestamp=1037030332),\n",
       " Row(userId=229, movieId=1266, rating=3.0, timestamp=1037029669),\n",
       " Row(userId=229, movieId=1367, rating=3.0, timestamp=1039633000),\n",
       " Row(userId=229, movieId=1371, rating=2.0, timestamp=1037825892),\n",
       " Row(userId=229, movieId=1391, rating=3.0, timestamp=1037828596),\n",
       " Row(userId=229, movieId=1405, rating=4.0, timestamp=1037136141),\n",
       " Row(userId=229, movieId=1544, rating=1.0, timestamp=1037831226),\n",
       " Row(userId=229, movieId=1552, rating=2.0, timestamp=1037828727),\n",
       " Row(userId=229, movieId=1625, rating=2.0, timestamp=1037829730),\n",
       " Row(userId=229, movieId=1639, rating=3.0, timestamp=1037826538),\n",
       " Row(userId=229, movieId=1676, rating=2.0, timestamp=1037820193),\n",
       " Row(userId=229, movieId=1704, rating=2.0, timestamp=1037826267),\n",
       " Row(userId=229, movieId=1732, rating=3.0, timestamp=1037827201),\n",
       " Row(userId=229, movieId=1909, rating=2.0, timestamp=1037826828),\n",
       " Row(userId=229, movieId=1921, rating=5.0, timestamp=1037826447),\n",
       " Row(userId=229, movieId=1994, rating=3.0, timestamp=1037824496),\n",
       " Row(userId=229, movieId=2002, rating=2.0, timestamp=1037828170),\n",
       " Row(userId=229, movieId=2076, rating=5.0, timestamp=1037824496),\n",
       " Row(userId=229, movieId=2161, rating=3.0, timestamp=1037824659),\n",
       " Row(userId=229, movieId=2167, rating=3.0, timestamp=1037826907),\n",
       " Row(userId=229, movieId=2174, rating=4.0, timestamp=1037824604),\n",
       " Row(userId=229, movieId=2194, rating=3.0, timestamp=1037137836),\n",
       " Row(userId=229, movieId=2291, rating=2.0, timestamp=1037038358),\n",
       " Row(userId=229, movieId=2321, rating=3.0, timestamp=1037826447),\n",
       " Row(userId=229, movieId=2355, rating=2.0, timestamp=1037903826),\n",
       " Row(userId=229, movieId=2407, rating=3.0, timestamp=1039723602),\n",
       " Row(userId=229, movieId=2420, rating=2.0, timestamp=1037825050),\n",
       " Row(userId=229, movieId=2470, rating=2.0, timestamp=1037825050),\n",
       " Row(userId=229, movieId=2529, rating=4.0, timestamp=1037822487),\n",
       " Row(userId=229, movieId=2572, rating=2.0, timestamp=1037028193),\n",
       " Row(userId=229, movieId=2599, rating=3.0, timestamp=1037028332),\n",
       " Row(userId=229, movieId=2617, rating=3.0, timestamp=1037830717),\n",
       " Row(userId=229, movieId=2628, rating=2.0, timestamp=1037828080),\n",
       " Row(userId=229, movieId=2657, rating=4.0, timestamp=1037128254),\n",
       " Row(userId=229, movieId=2692, rating=4.0, timestamp=1037138282),\n",
       " Row(userId=229, movieId=2699, rating=2.0, timestamp=1037827898),\n",
       " Row(userId=229, movieId=2710, rating=3.0, timestamp=1037028246),\n",
       " Row(userId=229, movieId=2761, rating=3.0, timestamp=1037028623),\n",
       " Row(userId=229, movieId=2763, rating=1.0, timestamp=1037028861),\n",
       " Row(userId=229, movieId=2791, rating=4.0, timestamp=1037824167),\n",
       " Row(userId=229, movieId=2916, rating=3.0, timestamp=1037826327),\n",
       " Row(userId=229, movieId=2918, rating=3.0, timestamp=1037824078),\n",
       " Row(userId=229, movieId=2947, rating=3.0, timestamp=1037029727),\n",
       " Row(userId=229, movieId=2959, rating=5.0, timestamp=1037028363),\n",
       " Row(userId=229, movieId=2985, rating=4.0, timestamp=1037824659),\n",
       " Row(userId=229, movieId=2987, rating=3.0, timestamp=1037028912),\n",
       " Row(userId=229, movieId=2997, rating=4.0, timestamp=1037028231),\n",
       " Row(userId=229, movieId=3000, rating=5.0, timestamp=1037826063),\n",
       " Row(userId=229, movieId=3039, rating=3.0, timestamp=1037029727),\n",
       " Row(userId=229, movieId=3408, rating=2.0, timestamp=1037028332),\n",
       " Row(userId=229, movieId=3499, rating=3.0, timestamp=1037826267),\n",
       " Row(userId=229, movieId=3552, rating=4.0, timestamp=1037822677),\n",
       " Row(userId=229, movieId=3717, rating=2.0, timestamp=1037031402),\n",
       " Row(userId=229, movieId=3753, rating=1.0, timestamp=1037028713),\n",
       " Row(userId=229, movieId=4022, rating=1.0, timestamp=1037028264),\n",
       " Row(userId=229, movieId=4643, rating=1.0, timestamp=1037031219),\n",
       " Row(userId=229, movieId=4848, rating=2.0, timestamp=1037991452),\n",
       " Row(userId=229, movieId=4886, rating=3.0, timestamp=1037029688),\n",
       " Row(userId=229, movieId=4975, rating=2.0, timestamp=1037030855),\n",
       " Row(userId=229, movieId=4979, rating=2.0, timestamp=1037991802),\n",
       " Row(userId=229, movieId=5378, rating=1.0, timestamp=1037903888),\n",
       " Row(userId=229, movieId=5445, rating=2.0, timestamp=1037030638),\n",
       " Row(userId=229, movieId=5459, rating=1.0, timestamp=1037031402),\n",
       " Row(userId=229, movieId=5618, rating=4.0, timestamp=1037138283),\n",
       " Row(userId=229, movieId=5952, rating=4.0, timestamp=1040486251)]"
      ]
     },
     "execution_count": 24,
     "metadata": {},
     "output_type": "execute_result"
    }
   ],
   "source": [
    "test_user_data.collect()"
   ]
  },
  {
   "cell_type": "code",
   "execution_count": 25,
   "metadata": {},
   "outputs": [],
   "source": [
    "single_user = test_user_data.select(['movieId','userId'])"
   ]
  },
  {
   "cell_type": "code",
   "execution_count": 26,
   "metadata": {},
   "outputs": [
    {
     "data": {
      "text/plain": [
       "[Row(movieId=2, userId=229, prediction=1.9873344898223877),\n",
       " Row(movieId=16, userId=229, prediction=2.994056463241577),\n",
       " Row(movieId=47, userId=229, prediction=3.1423003673553467),\n",
       " Row(movieId=50, userId=229, prediction=3.239253044128418),\n",
       " Row(movieId=104, userId=229, prediction=2.208995819091797),\n",
       " Row(movieId=172, userId=229, prediction=1.7231072187423706),\n",
       " Row(movieId=173, userId=229, prediction=1.449049949645996),\n",
       " Row(movieId=185, userId=229, prediction=1.670841932296753),\n",
       " Row(movieId=231, userId=229, prediction=2.25760555267334),\n",
       " Row(movieId=235, userId=229, prediction=3.266620397567749),\n",
       " Row(movieId=253, userId=229, prediction=2.5180413722991943),\n",
       " Row(movieId=260, userId=229, prediction=3.2347428798675537),\n",
       " Row(movieId=277, userId=229, prediction=1.9386329650878906),\n",
       " Row(movieId=292, userId=229, prediction=2.044633150100708),\n",
       " Row(movieId=293, userId=229, prediction=3.1543996334075928),\n",
       " Row(movieId=296, userId=229, prediction=3.5510425567626953),\n",
       " Row(movieId=300, userId=229, prediction=2.9479095935821533),\n",
       " Row(movieId=317, userId=229, prediction=1.7080714702606201),\n",
       " Row(movieId=349, userId=229, prediction=2.2777099609375),\n",
       " Row(movieId=377, userId=229, prediction=2.3570525646209717),\n",
       " Row(movieId=410, userId=229, prediction=2.3398826122283936),\n",
       " Row(movieId=432, userId=229, prediction=1.4825055599212646),\n",
       " Row(movieId=435, userId=229, prediction=1.82954740524292),\n",
       " Row(movieId=442, userId=229, prediction=1.9699627161026),\n",
       " Row(movieId=457, userId=229, prediction=2.747114419937134),\n",
       " Row(movieId=480, userId=229, prediction=2.6787216663360596),\n",
       " Row(movieId=500, userId=229, prediction=2.024968147277832),\n",
       " Row(movieId=555, userId=229, prediction=2.9747300148010254),\n",
       " Row(movieId=586, userId=229, prediction=2.048238754272461),\n",
       " Row(movieId=596, userId=229, prediction=2.844005584716797),\n",
       " Row(movieId=597, userId=229, prediction=1.9195457696914673),\n",
       " Row(movieId=708, userId=229, prediction=2.2654409408569336),\n",
       " Row(movieId=778, userId=229, prediction=3.3019087314605713),\n",
       " Row(movieId=784, userId=229, prediction=2.178941011428833),\n",
       " Row(movieId=858, userId=229, prediction=3.6017258167266846),\n",
       " Row(movieId=919, userId=229, prediction=3.1135740280151367),\n",
       " Row(movieId=920, userId=229, prediction=2.799116611480713),\n",
       " Row(movieId=1035, userId=229, prediction=2.615218162536621),\n",
       " Row(movieId=1080, userId=229, prediction=3.3659510612487793),\n",
       " Row(movieId=1084, userId=229, prediction=3.19156813621521),\n",
       " Row(movieId=1090, userId=229, prediction=3.0603203773498535),\n",
       " Row(movieId=1120, userId=229, prediction=2.8450982570648193),\n",
       " Row(movieId=1193, userId=229, prediction=3.439542770385742),\n",
       " Row(movieId=1203, userId=229, prediction=3.3766016960144043),\n",
       " Row(movieId=1219, userId=229, prediction=3.45760178565979),\n",
       " Row(movieId=1247, userId=229, prediction=3.2666449546813965),\n",
       " Row(movieId=1258, userId=229, prediction=3.3562607765197754),\n",
       " Row(movieId=1259, userId=229, prediction=3.0274910926818848),\n",
       " Row(movieId=1263, userId=229, prediction=3.237398862838745),\n",
       " Row(movieId=1265, userId=229, prediction=3.1822407245635986),\n",
       " Row(movieId=1266, userId=229, prediction=3.2372758388519287),\n",
       " Row(movieId=1367, userId=229, prediction=1.801971435546875),\n",
       " Row(movieId=1371, userId=229, prediction=2.2046501636505127),\n",
       " Row(movieId=1391, userId=229, prediction=2.472604751586914),\n",
       " Row(movieId=1405, userId=229, prediction=2.5478920936584473),\n",
       " Row(movieId=1544, userId=229, prediction=1.8668081760406494),\n",
       " Row(movieId=1552, userId=229, prediction=1.937012791633606),\n",
       " Row(movieId=1625, userId=229, prediction=2.758924961090088),\n",
       " Row(movieId=1639, userId=229, prediction=2.7458040714263916),\n",
       " Row(movieId=1676, userId=229, prediction=2.517686128616333),\n",
       " Row(movieId=1704, userId=229, prediction=2.8092753887176514),\n",
       " Row(movieId=1732, userId=229, prediction=3.337502956390381),\n",
       " Row(movieId=1909, userId=229, prediction=2.2956461906433105),\n",
       " Row(movieId=1921, userId=229, prediction=3.0202395915985107),\n",
       " Row(movieId=1994, userId=229, prediction=2.834336042404175),\n",
       " Row(movieId=2002, userId=229, prediction=1.9475245475769043),\n",
       " Row(movieId=2076, userId=229, prediction=3.36285400390625),\n",
       " Row(movieId=2161, userId=229, prediction=2.584043025970459),\n",
       " Row(movieId=2167, userId=229, prediction=2.2766616344451904),\n",
       " Row(movieId=2174, userId=229, prediction=2.9127368927001953),\n",
       " Row(movieId=2194, userId=229, prediction=2.89017653465271),\n",
       " Row(movieId=2291, userId=229, prediction=3.0294301509857178),\n",
       " Row(movieId=2321, userId=229, prediction=2.7473349571228027),\n",
       " Row(movieId=2355, userId=229, prediction=2.603722333908081),\n",
       " Row(movieId=2407, userId=229, prediction=2.365938901901245),\n",
       " Row(movieId=2420, userId=229, prediction=2.342550039291382),\n",
       " Row(movieId=2470, userId=229, prediction=2.1225149631500244),\n",
       " Row(movieId=2529, userId=229, prediction=2.9736664295196533),\n",
       " Row(movieId=2572, userId=229, prediction=2.1984236240386963),\n",
       " Row(movieId=2599, userId=229, prediction=3.1440327167510986),\n",
       " Row(movieId=2617, userId=229, prediction=2.051584243774414),\n",
       " Row(movieId=2628, userId=229, prediction=1.7486258745193481),\n",
       " Row(movieId=2657, userId=229, prediction=2.771416187286377),\n",
       " Row(movieId=2692, userId=229, prediction=3.165090322494507),\n",
       " Row(movieId=2699, userId=229, prediction=2.224407911300659),\n",
       " Row(movieId=2710, userId=229, prediction=2.441816806793213),\n",
       " Row(movieId=2761, userId=229, prediction=3.079766035079956),\n",
       " Row(movieId=2763, userId=229, prediction=2.238895893096924),\n",
       " Row(movieId=2791, userId=229, prediction=3.0404646396636963),\n",
       " Row(movieId=2916, userId=229, prediction=2.734086751937866),\n",
       " Row(movieId=2918, userId=229, prediction=2.8850536346435547),\n",
       " Row(movieId=2947, userId=229, prediction=2.926027774810791),\n",
       " Row(movieId=2959, userId=229, prediction=3.265366792678833),\n",
       " Row(movieId=2985, userId=229, prediction=2.8622236251831055),\n",
       " Row(movieId=2987, userId=229, prediction=2.900055408477783),\n",
       " Row(movieId=2997, userId=229, prediction=3.358508825302124),\n",
       " Row(movieId=3000, userId=229, prediction=3.313113212585449),\n",
       " Row(movieId=3039, userId=229, prediction=2.762260675430298),\n",
       " Row(movieId=3408, userId=229, prediction=2.440894365310669),\n",
       " Row(movieId=3499, userId=229, prediction=2.953453540802002),\n",
       " Row(movieId=3552, userId=229, prediction=2.7054057121276855),\n",
       " Row(movieId=3717, userId=229, prediction=1.6062699556350708),\n",
       " Row(movieId=3753, userId=229, prediction=1.8531275987625122),\n",
       " Row(movieId=4022, userId=229, prediction=2.5489394664764404),\n",
       " Row(movieId=4643, userId=229, prediction=1.6950820684432983),\n",
       " Row(movieId=4848, userId=229, prediction=3.3206753730773926),\n",
       " Row(movieId=4886, userId=229, prediction=2.8679144382476807),\n",
       " Row(movieId=4975, userId=229, prediction=2.3034636974334717),\n",
       " Row(movieId=4979, userId=229, prediction=3.212965726852417),\n",
       " Row(movieId=5378, userId=229, prediction=1.8027198314666748),\n",
       " Row(movieId=5445, userId=229, prediction=2.683696985244751),\n",
       " Row(movieId=5459, userId=229, prediction=1.6557769775390625),\n",
       " Row(movieId=5618, userId=229, prediction=3.450972318649292),\n",
       " Row(movieId=5952, userId=229, prediction=3.016430377960205)]"
      ]
     },
     "execution_count": 26,
     "metadata": {},
     "output_type": "execute_result"
    }
   ],
   "source": [
    "reccomendations = model.transform(single_user)\n",
    "reccomendations.orderBy('movieId').collect()"
   ]
  },
  {
   "cell_type": "code",
   "execution_count": 27,
   "metadata": {},
   "outputs": [],
   "source": [
    "from pyspark.ml.evaluation import RegressionEvaluator"
   ]
  },
  {
   "cell_type": "code",
   "execution_count": 28,
   "metadata": {},
   "outputs": [
    {
     "data": {
      "text/plain": [
       "298859"
      ]
     },
     "execution_count": 28,
     "metadata": {},
     "output_type": "execute_result"
    }
   ],
   "source": [
    "test_data.count()"
   ]
  },
  {
   "cell_type": "code",
   "execution_count": 29,
   "metadata": {},
   "outputs": [],
   "source": [
    "test_results = model.transform(test_data)"
   ]
  },
  {
   "cell_type": "code",
   "execution_count": 30,
   "metadata": {},
   "outputs": [
    {
     "data": {
      "text/plain": [
       "[Row(userId=5300, movieId=471, rating=4.5, timestamp=1181189253, prediction=3.4351301193237305),\n",
       " Row(userId=156296, movieId=471, rating=4.0, timestamp=1498958617, prediction=3.395777702331543),\n",
       " Row(userId=193640, movieId=471, rating=4.0, timestamp=1323546219, prediction=3.223991632461548),\n",
       " Row(userId=7417, movieId=471, rating=4.0, timestamp=1077029821, prediction=3.284681797027588),\n",
       " Row(userId=82966, movieId=471, rating=4.0, timestamp=1113240514, prediction=3.6921091079711914)]"
      ]
     },
     "execution_count": 30,
     "metadata": {},
     "output_type": "execute_result"
    }
   ],
   "source": [
    "test_results.head(5)"
   ]
  },
  {
   "cell_type": "code",
   "execution_count": 31,
   "metadata": {},
   "outputs": [
    {
     "name": "stdout",
     "output_type": "stream",
     "text": [
      "RMSE\n"
     ]
    },
    {
     "data": {
      "text/plain": [
       "0.7862512331487455"
      ]
     },
     "execution_count": 31,
     "metadata": {},
     "output_type": "execute_result"
    }
   ],
   "source": [
    "evaluator = RegressionEvaluator(labelCol='rating', predictionCol='prediction')\n",
    "print('RMSE')\n",
    "evaluator.evaluate(test_results)"
   ]
  },
  {
   "cell_type": "code",
   "execution_count": 32,
   "metadata": {},
   "outputs": [
    {
     "name": "stdout",
     "output_type": "stream",
     "text": [
      "R_sqr\n"
     ]
    },
    {
     "data": {
      "text/plain": [
       "0.39399185926999203"
      ]
     },
     "execution_count": 32,
     "metadata": {},
     "output_type": "execute_result"
    }
   ],
   "source": [
    "print('R_sqr')\n",
    "evaluator.evaluate(test_results, {evaluator.metricName: \"r2\"})"
   ]
  },
  {
   "cell_type": "code",
   "execution_count": 33,
   "metadata": {},
   "outputs": [
    {
     "name": "stdout",
     "output_type": "stream",
     "text": [
      "MAE\n"
     ]
    },
    {
     "data": {
      "text/plain": [
       "0.614926330628965"
      ]
     },
     "execution_count": 33,
     "metadata": {},
     "output_type": "execute_result"
    }
   ],
   "source": [
    "print('MAE')\n",
    "evaluator.evaluate(test_results, {evaluator.metricName: \"mae\"})"
   ]
  },
  {
   "cell_type": "code",
   "execution_count": 34,
   "metadata": {},
   "outputs": [
    {
     "name": "stdout",
     "output_type": "stream",
     "text": [
      "+-------+------------------+\n",
      "|summary|            rating|\n",
      "+-------+------------------+\n",
      "|  count|            298859|\n",
      "|   mean|3.4966271720108812|\n",
      "| stddev|1.0100034030299874|\n",
      "|    min|               0.5|\n",
      "|    max|               5.0|\n",
      "+-------+------------------+\n",
      "\n"
     ]
    }
   ],
   "source": [
    "test_data.select('rating').describe().show()"
   ]
  },
  {
   "cell_type": "code",
   "execution_count": null,
   "metadata": {},
   "outputs": [],
   "source": []
  }
 ],
 "metadata": {
  "kernelspec": {
   "display_name": "Python (PY_SPARK_CCF_ENV)",
   "language": "python",
   "name": "py_spark_ccf_env"
  },
  "language_info": {
   "codemirror_mode": {
    "name": "ipython",
    "version": 3
   },
   "file_extension": ".py",
   "mimetype": "text/x-python",
   "name": "python",
   "nbconvert_exporter": "python",
   "pygments_lexer": "ipython3",
   "version": "3.6.10"
  },
  "toc": {
   "base_numbering": 1,
   "nav_menu": {},
   "number_sections": true,
   "sideBar": true,
   "skip_h1_title": false,
   "title_cell": "Table of Contents",
   "title_sidebar": "Contents",
   "toc_cell": false,
   "toc_position": {},
   "toc_section_display": true,
   "toc_window_display": false
  }
 },
 "nbformat": 4,
 "nbformat_minor": 2
}
