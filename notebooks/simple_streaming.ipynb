{
 "cells": [
  {
   "cell_type": "code",
   "execution_count": 1,
   "metadata": {},
   "outputs": [
    {
     "data": {
      "text/plain": [
       "'/var/www/py_spark_ccf/notebooks'"
      ]
     },
     "execution_count": 1,
     "metadata": {},
     "output_type": "execute_result"
    }
   ],
   "source": [
    "%config Completer.use_jedi = False\n",
    "\n",
    "from pyspark.sql import SparkSession\n",
    "import numpy\n",
    "import pandas\n",
    "\n",
    "import os\n",
    "os.environ['PYSPARK_PYTHON'] = '/var/www/py_spark_ccf/PY_SPARK_CCF_ENV/bin/python3'\n",
    "os.environ['PYSPARK_DRIVER_PYTHON'] = '/var/www/py_spark_ccf/PY_SPARK_CCF_ENV/bin/python3'\n",
    "os.getcwd()"
   ]
  },
  {
   "cell_type": "code",
   "execution_count": 2,
   "metadata": {},
   "outputs": [],
   "source": [
    "spark_session = SparkSession.builder.master(\"spark://costrategix-pc:7077\")\\\n",
    "    .appName('simple_streaming').getOrCreate()"
   ]
  },
  {
   "cell_type": "code",
   "execution_count": 3,
   "metadata": {},
   "outputs": [
    {
     "data": {
      "text/plain": [
       "[('spark.driver.memory', '18g'),\n",
       " ('spark.driver.port', '44469'),\n",
       " ('spark.app.startTime', '1617705196707'),\n",
       " ('spark.rdd.compress', 'True'),\n",
       " ('spark.serializer.objectStreamReset', '100'),\n",
       " ('spark.app.name', 'simple_streaming'),\n",
       " ('spark.master', 'spark://costrategix-pc:7077'),\n",
       " ('spark.submit.pyFiles', ''),\n",
       " ('spark.executor.id', 'driver'),\n",
       " ('spark.submit.deployMode', 'client'),\n",
       " ('spark.app.id', 'app-20210406160318-0010'),\n",
       " ('spark.driver.host', '192.168.0.7'),\n",
       " ('spark.ui.showConsoleProgress', 'true')]"
      ]
     },
     "execution_count": 3,
     "metadata": {},
     "output_type": "execute_result"
    }
   ],
   "source": [
    "spark_session.sparkContext.getConf().getAll()"
   ]
  },
  {
   "cell_type": "code",
   "execution_count": 4,
   "metadata": {},
   "outputs": [],
   "source": [
    "from pyspark.streaming import StreamingContext\n",
    "\n",
    "batch_interval = 10\n",
    "streaming_context = StreamingContext(spark_session.sparkContext, batch_interval)"
   ]
  },
  {
   "cell_type": "code",
   "execution_count": 5,
   "metadata": {},
   "outputs": [],
   "source": [
    "lines_dstream = streaming_context.socketTextStream(\"localhost\", 9999)"
   ]
  },
  {
   "cell_type": "code",
   "execution_count": 6,
   "metadata": {},
   "outputs": [],
   "source": [
    "#shreyas encryptor\n",
    "replace_dict = {\n",
    "    'l': '1',\n",
    "    's': '5',\n",
    "    'e': '9',\n",
    "    'a': '6',\n",
    "}\n",
    "\n",
    "encrypted_dstream = lines_dstream.map(\\\n",
    "    lambda line: ''.join([replace_dict[c] if c in replace_dict else c for c in line.lower()]))\n",
    "\n",
    "encrypted_dstream.pprint()"
   ]
  },
  {
   "cell_type": "code",
   "execution_count": 7,
   "metadata": {},
   "outputs": [],
   "source": [
    "streaming_context.start()"
   ]
  },
  {
   "cell_type": "code",
   "execution_count": 10,
   "metadata": {},
   "outputs": [],
   "source": [
    "# streaming_context.stop()"
   ]
  },
  {
   "cell_type": "code",
   "execution_count": 9,
   "metadata": {},
   "outputs": [
    {
     "name": "stdout",
     "output_type": "stream",
     "text": [
      "-------------------------------------------\n",
      "Time: 2021-04-06 16:03:30\n",
      "-------------------------------------------\n",
      "\n",
      "-------------------------------------------\n",
      "Time: 2021-04-06 16:03:40\n",
      "-------------------------------------------\n",
      "\n",
      "-------------------------------------------\n",
      "Time: 2021-04-06 16:03:50\n",
      "-------------------------------------------\n",
      "\u001b[6\u001b[b\n",
      "5hhr9y65 i5 v9ry n9rvou5\n",
      "y95, h9 c6n cod9, but, think5 6 1ot.\n",
      "\n",
      "-------------------------------------------\n",
      "Time: 2021-04-06 16:04:00\n",
      "-------------------------------------------\n",
      "\n",
      "-------------------------------------------\n",
      "Time: 2021-04-06 16:04:10\n",
      "-------------------------------------------\n",
      "\n",
      "-------------------------------------------\n",
      "Time: 2021-04-06 16:04:20\n",
      "-------------------------------------------\n",
      "\n",
      "-------------------------------------------\n",
      "Time: 2021-04-06 16:04:30\n",
      "-------------------------------------------\n",
      "thi5 i5 r9611y coo1!!, i5n't it?\n",
      "\n",
      "-------------------------------------------\n",
      "Time: 2021-04-06 16:04:40\n",
      "-------------------------------------------\n",
      "\n",
      "-------------------------------------------\n",
      "Time: 2021-04-06 16:04:50\n",
      "-------------------------------------------\n",
      "\n",
      "-------------------------------------------\n",
      "Time: 2021-04-06 16:05:00\n",
      "-------------------------------------------\n",
      "c196r\n",
      "\n",
      "-------------------------------------------\n",
      "Time: 2021-04-06 16:05:10\n",
      "-------------------------------------------\n",
      "thi5\n",
      " i5\n",
      "wh6t \n",
      "it \n",
      "i5\n",
      "\n",
      "-------------------------------------------\n",
      "Time: 2021-04-06 16:05:20\n",
      "-------------------------------------------\n",
      "\n"
     ]
    }
   ],
   "source": [
    "# nc -lk 9999"
   ]
  }
 ],
 "metadata": {
  "kernelspec": {
   "display_name": "Python (PY_SPARK_CCF_ENV)",
   "language": "python",
   "name": "py_spark_ccf_env"
  },
  "language_info": {
   "codemirror_mode": {
    "name": "ipython",
    "version": 3
   },
   "file_extension": ".py",
   "mimetype": "text/x-python",
   "name": "python",
   "nbconvert_exporter": "python",
   "pygments_lexer": "ipython3",
   "version": "3.6.10"
  },
  "toc": {
   "base_numbering": 1,
   "nav_menu": {},
   "number_sections": true,
   "sideBar": true,
   "skip_h1_title": false,
   "title_cell": "Table of Contents",
   "title_sidebar": "Contents",
   "toc_cell": false,
   "toc_position": {},
   "toc_section_display": true,
   "toc_window_display": false
  }
 },
 "nbformat": 4,
 "nbformat_minor": 2
}
