{
 "cells": [
  {
   "cell_type": "code",
   "execution_count": 48,
   "metadata": {},
   "outputs": [
    {
     "data": {
      "text/plain": [
       "'/var/www/py_spark_ccf/notebooks'"
      ]
     },
     "execution_count": 48,
     "metadata": {},
     "output_type": "execute_result"
    }
   ],
   "source": [
    "%config Completer.use_jedi = False\n",
    "\n",
    "from pyspark.sql import SparkSession\n",
    "import numpy\n",
    "import pandas\n",
    "\n",
    "import os\n",
    "os.environ['PYSPARK_PYTHON'] = '/var/www/py_spark_ccf/PY_SPARK_CCF_ENV/bin/python3'\n",
    "os.environ['PYSPARK_DRIVER_PYTHON'] = '/var/www/py_spark_ccf/PY_SPARK_CCF_ENV/bin/python3'\n",
    "os.getcwd()"
   ]
  },
  {
   "cell_type": "code",
   "execution_count": 49,
   "metadata": {},
   "outputs": [],
   "source": [
    "spark_session = SparkSession.builder.master(\"spark://costrategix-pc:7077\")\\\n",
    "    .appName('product_prediction').getOrCreate()"
   ]
  },
  {
   "cell_type": "code",
   "execution_count": 50,
   "metadata": {},
   "outputs": [
    {
     "data": {
      "text/plain": [
       "[('spark.driver.memory', '18g'),\n",
       " ('spark.driver.port', '40647'),\n",
       " ('spark.rdd.compress', 'True'),\n",
       " ('spark.app.name', 'product_prediction'),\n",
       " ('spark.serializer.objectStreamReset', '100'),\n",
       " ('spark.app.id', 'app-20210404095804-0003'),\n",
       " ('spark.master', 'spark://costrategix-pc:7077'),\n",
       " ('spark.submit.pyFiles', ''),\n",
       " ('spark.executor.id', 'driver'),\n",
       " ('spark.submit.deployMode', 'client'),\n",
       " ('spark.app.startTime', '1617510482955'),\n",
       " ('spark.driver.host', '192.168.0.7'),\n",
       " ('spark.ui.showConsoleProgress', 'true')]"
      ]
     },
     "execution_count": 50,
     "metadata": {},
     "output_type": "execute_result"
    }
   ],
   "source": [
    "spark_session.sparkContext.getConf().getAll()"
   ]
  },
  {
   "cell_type": "code",
   "execution_count": 51,
   "metadata": {},
   "outputs": [],
   "source": [
    "audit_data_frame = spark_session.read.csv('../data/audit_data_frame_2021_04_02.csv',\n",
    "    inferSchema=True, header=True)"
   ]
  },
  {
   "cell_type": "code",
   "execution_count": 52,
   "metadata": {},
   "outputs": [
    {
     "name": "stdout",
     "output_type": "stream",
     "text": [
      "root\n",
      " |-- _c0: integer (nullable = true)\n",
      " |-- PRIMARY_KEY: string (nullable = true)\n",
      " |-- AUDIT_CLASSIFICATION_CORRECT: integer (nullable = true)\n",
      " |-- AUDIT_CORRECTED_PACKAGE_ID: string (nullable = true)\n",
      " |-- AUDIT_KEG_FLAG_CORRECT: integer (nullable = true)\n",
      " |-- AUDIT_NEW_PACKAGE: string (nullable = true)\n",
      " |-- AUDIT_PACKAGE_CORRECT: integer (nullable = true)\n",
      " |-- AUDIT_PRODUCT_CORRECT: integer (nullable = true)\n",
      " |-- AUDIT_SUB_CLASSIFICATION_CORRECT: integer (nullable = true)\n",
      " |-- INVOICE_CASE_EQUIVALENT: double (nullable = true)\n",
      " |-- INVOICE_ITEM_CLASSIFICATION: string (nullable = true)\n",
      " |-- INVOICE_ITEM_QUANTITY_PRICE: double (nullable = true)\n",
      " |-- INVOICE_ITEM_SAC_AMOUNT: double (nullable = true)\n",
      " |-- INVOICE_ITEM_SUB_CLASSIFICATION: string (nullable = true)\n",
      " |-- INVOICE_ITEM_TOTAL_PRICE: double (nullable = true)\n",
      " |-- INVOICE_LLQ: integer (nullable = true)\n",
      " |-- INVOICE_PACKAGE_DESCRIPTION: string (nullable = true)\n",
      " |-- INVOICE_PROCESS_DATE: string (nullable = true)\n",
      " |-- INVOICE_RAW_PACKS_PER_CASE: integer (nullable = true)\n",
      " |-- INVOICE_RAW_QUANTITY: double (nullable = true)\n",
      " |-- INVOICE_RAW_QUANTITY_PACKAGING: string (nullable = true)\n",
      " |-- INVOICE_SYSTEM_ID: string (nullable = true)\n",
      " |-- INVOICE_TAG_KEG_FLAG: boolean (nullable = true)\n",
      " |-- INVOICE_UPC_CASE: string (nullable = true)\n",
      " |-- INVOICE_UPC_PACK: string (nullable = true)\n",
      " |-- PACKAGE_DISPLAY_NAME: string (nullable = true)\n",
      " |-- PACKAGE_FDC_ID: integer (nullable = true)\n",
      " |-- UNIT_PRICE: double (nullable = true)\n",
      " |-- DISTRIBUTOR_FDC_ID: integer (nullable = true)\n",
      " |-- INVOICE_VENDOR_PRODUCT_NUMBER: string (nullable = true)\n",
      " |-- INVOICE_PACKAGE_MATCH_CONFIDENCE: double (nullable = true)\n",
      " |-- INVOICE_PACKAGE_MATCH_MODEL: string (nullable = true)\n",
      " |-- Original Order: integer (nullable = true)\n",
      " |-- INVOICE PROCESS DATE: string (nullable = true)\n",
      " |-- INVOICE SYSTEM ID: string (nullable = true)\n",
      " |-- AUDIT_CORRECT_CLASSIFICATION: string (nullable = true)\n",
      " |-- INVOICE_ITEM_FTS_ID: long (nullable = true)\n",
      " |-- PRODUCT_NAME: string (nullable = true)\n",
      " |-- Audit: integer (nullable = true)\n",
      " |-- Unnamed: string (nullable = true)\n",
      " |-- AuditName: string (nullable = true)\n",
      " |-- CUSTOM COLUMN: string (nullable = true)\n",
      " |-- INVOICE FTS ID: integer (nullable = true)\n",
      " |-- INVOICE ITEM FTS ID: long (nullable = true)\n",
      " |-- INVOICE_FTS_ID: integer (nullable = true)\n",
      " |-- INVOICE_UPC_CASE3: long (nullable = true)\n",
      " |-- INVOICE_UPC_PACK2: long (nullable = true)\n",
      " |-- MASTER_CATALOG_DESCRIPTION: string (nullable = true)\n",
      " |-- MASTER_CATALOG_ID: integer (nullable = true)\n",
      " |-- MCID: integer (nullable = true)\n",
      " |-- PACKAGE_DISPLAY_NAME2: string (nullable = true)\n",
      " |-- UnitPrice: double (nullable = true)\n",
      "\n"
     ]
    }
   ],
   "source": [
    "audit_data_frame.printSchema()"
   ]
  },
  {
   "cell_type": "code",
   "execution_count": 53,
   "metadata": {},
   "outputs": [
    {
     "name": "stdout",
     "output_type": "stream",
     "text": [
      "+-------+------------------+\n",
      "|summary|               _c0|\n",
      "+-------+------------------+\n",
      "|  count|             32111|\n",
      "|   mean|16219.392980598548|\n",
      "| stddev| 9333.034190894623|\n",
      "|    min|                 0|\n",
      "|    max|             32336|\n",
      "+-------+------------------+\n",
      "\n",
      "+-------+--------------------+\n",
      "|summary|         PRIMARY_KEY|\n",
      "+-------+--------------------+\n",
      "|  count|               32111|\n",
      "|   mean|                null|\n",
      "| stddev|                null|\n",
      "|    min|PACKAGE_2020-02-1...|\n",
      "|    max|  PACKAGE_2319995064|\n",
      "+-------+--------------------+\n",
      "\n",
      "+-------+----------------------------+\n",
      "|summary|AUDIT_CLASSIFICATION_CORRECT|\n",
      "+-------+----------------------------+\n",
      "|  count|                       32111|\n",
      "|   mean|          0.9923702158138955|\n",
      "| stddev|         0.08701612712820837|\n",
      "|    min|                           0|\n",
      "|    max|                           1|\n",
      "+-------+----------------------------+\n",
      "\n",
      "+-------+--------------------------+\n",
      "|summary|AUDIT_CORRECTED_PACKAGE_ID|\n",
      "+-------+--------------------------+\n",
      "|  count|                       579|\n",
      "|   mean|         3678199.745233969|\n",
      "| stddev|         766979.5335746664|\n",
      "|    min|                         1|\n",
      "|    max|                  ﻿3427586|\n",
      "+-------+--------------------------+\n",
      "\n",
      "+-------+----------------------+\n",
      "|summary|AUDIT_KEG_FLAG_CORRECT|\n",
      "+-------+----------------------+\n",
      "|  count|                 32111|\n",
      "|   mean|    0.9947681479866712|\n",
      "| stddev|    0.0721432035653494|\n",
      "|    min|                     0|\n",
      "|    max|                     1|\n",
      "+-------+----------------------+\n",
      "\n",
      "+-------+-----------------+\n",
      "|summary|AUDIT_NEW_PACKAGE|\n",
      "+-------+-----------------+\n",
      "|  count|              729|\n",
      "|   mean|54200.30434782609|\n",
      "| stddev|428475.6371830202|\n",
      "|    min|                1|\n",
      "|    max|        round off|\n",
      "+-------+-----------------+\n",
      "\n",
      "+-------+---------------------+\n",
      "|summary|AUDIT_PACKAGE_CORRECT|\n",
      "+-------+---------------------+\n",
      "|  count|                32111|\n",
      "|   mean|    0.794307246737878|\n",
      "| stddev|  0.40421322684092237|\n",
      "|    min|                    0|\n",
      "|    max|                    1|\n",
      "+-------+---------------------+\n",
      "\n",
      "+-------+---------------------+\n",
      "|summary|AUDIT_PRODUCT_CORRECT|\n",
      "+-------+---------------------+\n",
      "|  count|                32111|\n",
      "|   mean|   0.8438229890068824|\n",
      "| stddev|   0.3630287267241462|\n",
      "|    min|                    0|\n",
      "|    max|                    1|\n",
      "+-------+---------------------+\n",
      "\n",
      "+-------+--------------------------------+\n",
      "|summary|AUDIT_SUB_CLASSIFICATION_CORRECT|\n",
      "+-------+--------------------------------+\n",
      "|  count|                            1116|\n",
      "|   mean|              0.9605734767025089|\n",
      "| stddev|               0.194694731676336|\n",
      "|    min|                               0|\n",
      "|    max|                               1|\n",
      "+-------+--------------------------------+\n",
      "\n",
      "+-------+-----------------------+\n",
      "|summary|INVOICE_CASE_EQUIVALENT|\n",
      "+-------+-----------------------+\n",
      "|  count|                  31069|\n",
      "|   mean|      2.165463540987724|\n",
      "| stddev|      9.284342070900289|\n",
      "|    min|          -97.499914144|\n",
      "|    max|            1259.979378|\n",
      "+-------+-----------------------+\n",
      "\n",
      "+-------+---------------------------+\n",
      "|summary|INVOICE_ITEM_CLASSIFICATION|\n",
      "+-------+---------------------------+\n",
      "|  count|                      32110|\n",
      "|   mean|                       null|\n",
      "| stddev|                       null|\n",
      "|    min|                NON PRODUCT|\n",
      "|    max|                    PRODUCT|\n",
      "+-------+---------------------------+\n",
      "\n",
      "+-------+---------------------------+\n",
      "|summary|INVOICE_ITEM_QUANTITY_PRICE|\n",
      "+-------+---------------------------+\n",
      "|  count|                      32111|\n",
      "|   mean|         44.726707648469336|\n",
      "| stddev|          63.27563302480478|\n",
      "|    min|                     -359.9|\n",
      "|    max|                    3182.54|\n",
      "+-------+---------------------------+\n",
      "\n",
      "+-------+-----------------------+\n",
      "|summary|INVOICE_ITEM_SAC_AMOUNT|\n",
      "+-------+-----------------------+\n",
      "|  count|                  32111|\n",
      "|   mean|    -3.2185652891532355|\n",
      "| stddev|      40.46303259391003|\n",
      "|    min|                -3360.0|\n",
      "|    max|                 631.85|\n",
      "+-------+-----------------------+\n",
      "\n",
      "+-------+-------------------------------+\n",
      "|summary|INVOICE_ITEM_SUB_CLASSIFICATION|\n",
      "+-------+-------------------------------+\n",
      "|  count|                            852|\n",
      "|   mean|                           null|\n",
      "| stddev|                           null|\n",
      "|    min|                     ADJUSTMENT|\n",
      "|    max|                       TAX-ITEM|\n",
      "+-------+-------------------------------+\n",
      "\n",
      "+-------+------------------------+\n",
      "|summary|INVOICE_ITEM_TOTAL_PRICE|\n",
      "+-------+------------------------+\n",
      "|  count|                   32111|\n",
      "|   mean|       77.18331630905273|\n",
      "| stddev|      237.52947365574943|\n",
      "|    min|                 -2640.0|\n",
      "|    max|                21358.22|\n",
      "+-------+------------------------+\n",
      "\n",
      "+-------+------------------+\n",
      "|summary|       INVOICE_LLQ|\n",
      "+-------+------------------+\n",
      "|  count|             31042|\n",
      "|   mean|41.863088718510404|\n",
      "| stddev|175.69087932693571|\n",
      "|    min|            -11520|\n",
      "|    max|             15120|\n",
      "+-------+------------------+\n",
      "\n",
      "+-------+---------------------------+\n",
      "|summary|INVOICE_PACKAGE_DESCRIPTION|\n",
      "+-------+---------------------------+\n",
      "|  count|                      32111|\n",
      "|   mean|                    71166.0|\n",
      "| stddev|         100578.86855597452|\n",
      "|    min|              #9 12OZ 4/6NR|\n",
      "|    max|       ~BLOOD BROOD (CAS...|\n",
      "+-------+---------------------------+\n",
      "\n",
      "+-------+--------------------+\n",
      "|summary|INVOICE_PROCESS_DATE|\n",
      "+-------+--------------------+\n",
      "|  count|               31922|\n",
      "|   mean|             44207.0|\n",
      "| stddev|  29.651306885194792|\n",
      "|    min|          01/03/2021|\n",
      "|    max|               44267|\n",
      "+-------+--------------------+\n",
      "\n",
      "+-------+--------------------------+\n",
      "|summary|INVOICE_RAW_PACKS_PER_CASE|\n",
      "+-------+--------------------------+\n",
      "|  count|                     26250|\n",
      "|   mean|          6.96887619047619|\n",
      "| stddev|        14.476544105061297|\n",
      "|    min|                         0|\n",
      "|    max|                      1984|\n",
      "+-------+--------------------------+\n",
      "\n",
      "+-------+--------------------+\n",
      "|summary|INVOICE_RAW_QUANTITY|\n",
      "+-------+--------------------+\n",
      "|  count|               32111|\n",
      "|   mean|  2.4432502880632803|\n",
      "| stddev|   11.72490235193822|\n",
      "|    min|             -1131.0|\n",
      "|    max|              1260.0|\n",
      "+-------+--------------------+\n",
      "\n",
      "+-------+------------------------------+\n",
      "|summary|INVOICE_RAW_QUANTITY_PACKAGING|\n",
      "+-------+------------------------------+\n",
      "|  count|                         32105|\n",
      "|   mean|                           6.0|\n",
      "| stddev|            10.074720839804941|\n",
      "|    min|                             1|\n",
      "|    max|                            RE|\n",
      "+-------+------------------------------+\n",
      "\n",
      "+-------+--------------------+\n",
      "|summary|   INVOICE_SYSTEM_ID|\n",
      "+-------+--------------------+\n",
      "|  count|               32111|\n",
      "|   mean|                null|\n",
      "| stddev|                null|\n",
      "|    min|2020-02-10:761503...|\n",
      "|    max|2021-03-26:REQ000...|\n",
      "+-------+--------------------+\n",
      "\n",
      "+-------+\n",
      "|summary|\n",
      "+-------+\n",
      "|  count|\n",
      "|   mean|\n",
      "| stddev|\n",
      "|    min|\n",
      "|    max|\n",
      "+-------+\n",
      "\n",
      "+-------+----------------+\n",
      "|summary|INVOICE_UPC_CASE|\n",
      "+-------+----------------+\n",
      "|  count|           32064|\n",
      "|   mean|            null|\n",
      "| stddev|            null|\n",
      "|    min|              ##|\n",
      "|    max|              |||\n",
      "+-------+----------------+\n",
      "\n",
      "+-------+----------------+\n",
      "|summary|INVOICE_UPC_PACK|\n",
      "+-------+----------------+\n",
      "|  count|           32050|\n",
      "|   mean|             0.0|\n",
      "| stddev|             NaN|\n",
      "|    min|              ##|\n",
      "|    max|              |||\n",
      "+-------+----------------+\n",
      "\n",
      "+-------+--------------------+\n",
      "|summary|PACKAGE_DISPLAY_NAME|\n",
      "+-------+--------------------+\n",
      "|  count|               31052|\n",
      "|   mean|                null|\n",
      "| stddev|                null|\n",
      "|    min|10 BARREL APOCALY...|\n",
      "|    max|ZYWIEC KUJAWIAK E...|\n",
      "+-------+--------------------+\n",
      "\n",
      "+-------+-----------------+\n",
      "|summary|   PACKAGE_FDC_ID|\n",
      "+-------+-----------------+\n",
      "|  count|            31069|\n",
      "|   mean|3528180.759020245|\n",
      "| stddev|403607.3656255416|\n",
      "|    min|          3407505|\n",
      "|    max|          6775331|\n",
      "+-------+-----------------+\n",
      "\n",
      "+-------+-----------------+\n",
      "|summary|       UNIT_PRICE|\n",
      "+-------+-----------------+\n",
      "|  count|            24105|\n",
      "|   mean|7.892915992532711|\n",
      "| stddev|22.63602023259426|\n",
      "|    min|           -275.0|\n",
      "|    max|            642.0|\n",
      "+-------+-----------------+\n",
      "\n",
      "+-------+------------------+\n",
      "|summary|DISTRIBUTOR_FDC_ID|\n",
      "+-------+------------------+\n",
      "|  count|             24488|\n",
      "|   mean| 383740.1829875858|\n",
      "| stddev|1402201.2954754403|\n",
      "|    min|                 5|\n",
      "|    max|           6688151|\n",
      "+-------+------------------+\n",
      "\n"
     ]
    },
    {
     "name": "stdout",
     "output_type": "stream",
     "text": [
      "+-------+-----------------------------+\n",
      "|summary|INVOICE_VENDOR_PRODUCT_NUMBER|\n",
      "+-------+-----------------------------+\n",
      "|  count|                        24488|\n",
      "|   mean|          2.752755590820742E9|\n",
      "| stddev|         1.040340486191066...|\n",
      "|    min|                           /6|\n",
      "|    max|          it-vwg-cos-fr-fr-18|\n",
      "+-------+-----------------------------+\n",
      "\n",
      "+-------+--------------------------------+\n",
      "|summary|INVOICE_PACKAGE_MATCH_CONFIDENCE|\n",
      "+-------+--------------------------------+\n",
      "|  count|                           18596|\n",
      "|   mean|                84.8564524628949|\n",
      "| stddev|              19.592832351997668|\n",
      "|    min|                           43.55|\n",
      "|    max|                           100.0|\n",
      "+-------+--------------------------------+\n",
      "\n",
      "+-------+---------------------------+\n",
      "|summary|INVOICE_PACKAGE_MATCH_MODEL|\n",
      "+-------+---------------------------+\n",
      "|  count|                      18242|\n",
      "|   mean|                       null|\n",
      "| stddev|                       null|\n",
      "|    min|           AUDIT-CORRECTION|\n",
      "|    max|       VPN-LOOKUP-PAYMEN...|\n",
      "+-------+---------------------------+\n",
      "\n",
      "+-------+------------------+\n",
      "|summary|    Original Order|\n",
      "+-------+------------------+\n",
      "|  count|              6077|\n",
      "|   mean|117519.74839558992|\n",
      "| stddev| 8286592.547962176|\n",
      "|    min|               288|\n",
      "|    max|         645645645|\n",
      "+-------+------------------+\n",
      "\n",
      "+-------+--------------------+\n",
      "|summary|INVOICE PROCESS DATE|\n",
      "+-------+--------------------+\n",
      "|  count|                   0|\n",
      "|   mean|                null|\n",
      "| stddev|                null|\n",
      "|    min|                null|\n",
      "|    max|                null|\n",
      "+-------+--------------------+\n",
      "\n",
      "+-------+-----------------+\n",
      "|summary|INVOICE SYSTEM ID|\n",
      "+-------+-----------------+\n",
      "|  count|                0|\n",
      "|   mean|             null|\n",
      "| stddev|             null|\n",
      "|    min|             null|\n",
      "|    max|             null|\n",
      "+-------+-----------------+\n",
      "\n",
      "+-------+----------------------------+\n",
      "|summary|AUDIT_CORRECT_CLASSIFICATION|\n",
      "+-------+----------------------------+\n",
      "|  count|                           9|\n",
      "|   mean|                         0.5|\n",
      "| stddev|          0.7071067811865476|\n",
      "|    min|                           0|\n",
      "|    max|                     PRODUCT|\n",
      "+-------+----------------------------+\n",
      "\n",
      "+-------+--------------------+\n",
      "|summary| INVOICE_ITEM_FTS_ID|\n",
      "+-------+--------------------+\n",
      "|  count|                4087|\n",
      "|   mean|2.3249791597012477E9|\n",
      "| stddev| 2.230416758112766E7|\n",
      "|    min|          2302062156|\n",
      "|    max|          2426670378|\n",
      "+-------+--------------------+\n",
      "\n",
      "+-------+--------------------+\n",
      "|summary|        PRODUCT_NAME|\n",
      "+-------+--------------------+\n",
      "|  count|                5676|\n",
      "|   mean|                null|\n",
      "| stddev|                null|\n",
      "|    min|   10 BARREL JOE IPA|\n",
      "|    max|ZYWIEC KUJAWIAK E...|\n",
      "+-------+--------------------+\n",
      "\n",
      "+-------+-----+\n",
      "|summary|Audit|\n",
      "+-------+-----+\n",
      "|  count|  543|\n",
      "|   mean|500.0|\n",
      "| stddev|  0.0|\n",
      "|    min|  500|\n",
      "|    max|  500|\n",
      "+-------+-----+\n",
      "\n",
      "+-------+-----------------+\n",
      "|summary|          Unnamed|\n",
      "+-------+-----------------+\n",
      "|  count|             3664|\n",
      "|   mean|499.0106157112526|\n",
      "| stddev|21.47214657541866|\n",
      "|    min|       2021-02-03|\n",
      "|    max|             Selt|\n",
      "+-------+-----------------+\n",
      "\n",
      "+-------+---------+\n",
      "|summary|AuditName|\n",
      "+-------+---------+\n",
      "|  count|     1756|\n",
      "|   mean|     null|\n",
      "| stddev|     null|\n",
      "|    min|500-03-12|\n",
      "|    max|LowConf26|\n",
      "+-------+---------+\n",
      "\n",
      "+-------+--------------------+\n",
      "|summary|       CUSTOM COLUMN|\n",
      "+-------+--------------------+\n",
      "|  count|                 344|\n",
      "|   mean|                null|\n",
      "| stddev|                null|\n",
      "|    min|                PK  |\n",
      "|    max|WEST SIXTH ROTATO...|\n",
      "+-------+--------------------+\n",
      "\n",
      "+-------+-------------------+\n",
      "|summary|     INVOICE FTS ID|\n",
      "+-------+-------------------+\n",
      "|  count|                110|\n",
      "|   mean|3.390750581454545E8|\n",
      "| stddev|  529360.5617710928|\n",
      "|    min|          338197086|\n",
      "|    max|          340029729|\n",
      "+-------+-------------------+\n",
      "\n",
      "+-------+--------------------+\n",
      "|summary| INVOICE ITEM FTS ID|\n",
      "+-------+--------------------+\n",
      "|  count|                 110|\n",
      "|   mean|2.4139206181545453E9|\n",
      "| stddev|   7264090.537493401|\n",
      "|    min|          2401978246|\n",
      "|    max|          2427003929|\n",
      "+-------+--------------------+\n",
      "\n",
      "+-------+-------------------+\n",
      "|summary|     INVOICE_FTS_ID|\n",
      "+-------+-------------------+\n",
      "|  count|                161|\n",
      "|   mean|3.390651425714286E8|\n",
      "| stddev|  619032.5174070226|\n",
      "|    min|          338209819|\n",
      "|    max|          340005082|\n",
      "+-------+-------------------+\n",
      "\n",
      "+-------+--------------------+\n",
      "|summary|   INVOICE_UPC_CASE3|\n",
      "+-------+--------------------+\n",
      "|  count|                  92|\n",
      "|   mean|5.073694923783695...|\n",
      "| stddev|2.091152464863538...|\n",
      "|    min|          7049111496|\n",
      "|    max|      20085000021570|\n",
      "+-------+--------------------+\n",
      "\n",
      "+-------+--------------------+\n",
      "|summary|   INVOICE_UPC_PACK2|\n",
      "+-------+--------------------+\n",
      "|  count|                  83|\n",
      "|   mean|2.551077198167951...|\n",
      "| stddev|3.268828601436223E11|\n",
      "|    min|              198661|\n",
      "|    max|        899539000731|\n",
      "+-------+--------------------+\n",
      "\n",
      "+-------+--------------------------+\n",
      "|summary|MASTER_CATALOG_DESCRIPTION|\n",
      "+-------+--------------------------+\n",
      "|  count|                       349|\n",
      "|   mean|                      null|\n",
      "| stddev|                      null|\n",
      "|    min|      14 Hands Hot To T...|\n",
      "|    max|      s/B POLAR 3/8/12O...|\n",
      "+-------+--------------------------+\n",
      "\n",
      "+-------+------------------+\n",
      "|summary| MASTER_CATALOG_ID|\n",
      "+-------+------------------+\n",
      "|  count|               196|\n",
      "|   mean|29915.030612244896|\n",
      "| stddev| 26118.74356441508|\n",
      "|    min|              1682|\n",
      "|    max|             67861|\n",
      "+-------+------------------+\n",
      "\n",
      "+-------+------------------+\n",
      "|summary|              MCID|\n",
      "+-------+------------------+\n",
      "|  count|                92|\n",
      "|   mean|28086.282608695652|\n",
      "| stddev|25035.600920643315|\n",
      "|    min|              1831|\n",
      "|    max|             67715|\n",
      "+-------+------------------+\n",
      "\n",
      "+-------+---------------------+\n",
      "|summary|PACKAGE_DISPLAY_NAME2|\n",
      "+-------+---------------------+\n",
      "|  count|                    9|\n",
      "|   mean|                 null|\n",
      "| stddev|                 null|\n",
      "|    min| Absolut Vodka 1/1...|\n",
      "|    max| Shiner Seasonal 4...|\n",
      "+-------+---------------------+\n",
      "\n",
      "+-------+-----------------+\n",
      "|summary|        UnitPrice|\n",
      "+-------+-----------------+\n",
      "|  count|               86|\n",
      "|   mean| 7.11953488372093|\n",
      "| stddev|16.19242015170546|\n",
      "|    min|             0.21|\n",
      "|    max|            129.0|\n",
      "+-------+-----------------+\n",
      "\n"
     ]
    }
   ],
   "source": [
    "for column in audit_data_frame.columns:\n",
    "    audit_data_frame.select(column).describe().show()"
   ]
  },
  {
   "cell_type": "markdown",
   "metadata": {},
   "source": [
    "# feature extraction"
   ]
  },
  {
   "cell_type": "code",
   "execution_count": 54,
   "metadata": {},
   "outputs": [
    {
     "data": {
      "text/plain": [
       "[Row(_c0=0, PRIMARY_KEY='PACKAGE_2020-02-10:761503452610:INV-66448:11:2347048832', AUDIT_CLASSIFICATION_CORRECT=1, AUDIT_CORRECTED_PACKAGE_ID=None, AUDIT_KEG_FLAG_CORRECT=1, AUDIT_NEW_PACKAGE=None, AUDIT_PACKAGE_CORRECT=0, AUDIT_PRODUCT_CORRECT=0, AUDIT_SUB_CLASSIFICATION_CORRECT=None, INVOICE_CASE_EQUIVALENT=0.166666555, INVOICE_ITEM_CLASSIFICATION='PRODUCT', INVOICE_ITEM_QUANTITY_PRICE=20.79, INVOICE_ITEM_SAC_AMOUNT=0.0, INVOICE_ITEM_SUB_CLASSIFICATION=None, INVOICE_ITEM_TOTAL_PRICE=41.58, INVOICE_LLQ=2, INVOICE_PACKAGE_DESCRIPTION='QUAGLIA FERNET 750ML', INVOICE_PROCESS_DATE='2021-01-25', INVOICE_RAW_PACKS_PER_CASE=0, INVOICE_RAW_QUANTITY=2.0, INVOICE_RAW_QUANTITY_PACKAGING='EA', INVOICE_SYSTEM_ID='2020-02-10:761503452610:INV-66448:11:2347048832', INVOICE_TAG_KEG_FLAG=False, INVOICE_UPC_CASE='||', INVOICE_UPC_PACK='|761503452610|', PACKAGE_DISPLAY_NAME='DUBAR FENETTI FERNET AMARGO 1/12 750 ML BOTTLE', PACKAGE_FDC_ID=3472809, UNIT_PRICE=20.79, DISTRIBUTOR_FDC_ID=None, INVOICE_VENDOR_PRODUCT_NUMBER=None, INVOICE_PACKAGE_MATCH_CONFIDENCE=None, INVOICE_PACKAGE_MATCH_MODEL=None, Original Order=None, INVOICE PROCESS DATE=None, INVOICE SYSTEM ID=None, AUDIT_CORRECT_CLASSIFICATION=None, INVOICE_ITEM_FTS_ID=None, PRODUCT_NAME=None, Audit=None, Unnamed=None, AuditName=None, CUSTOM COLUMN=None, INVOICE FTS ID=None, INVOICE ITEM FTS ID=None, INVOICE_FTS_ID=None, INVOICE_UPC_CASE3=None, INVOICE_UPC_PACK2=None, MASTER_CATALOG_DESCRIPTION=None, MASTER_CATALOG_ID=None, MCID=None, PACKAGE_DISPLAY_NAME2=None, UnitPrice=None, INVOICE_PACKAGE_DESCRIPTION_CLEANED=['quaglia', 'fernet', '750', 'ml'])]"
      ]
     },
     "execution_count": 54,
     "metadata": {},
     "output_type": "execute_result"
    }
   ],
   "source": [
    "from tokenizer import tokenize\n",
    "from pyspark.sql.functions import split\n",
    "spark_tokenize = spark_session.udf.register('tokenizer', tokenize)\n",
    "audit_data_frame = audit_data_frame.withColumn('INVOICE_PACKAGE_DESCRIPTION_CLEANED',\n",
    "                                               split(spark_tokenize('INVOICE_PACKAGE_DESCRIPTION'), \" \"))\n",
    "audit_data_frame.head(1)"
   ]
  },
  {
   "cell_type": "code",
   "execution_count": 55,
   "metadata": {},
   "outputs": [],
   "source": [
    "from pyspark.ml.feature import CountVectorizer, NGram, StringIndexer"
   ]
  },
  {
   "cell_type": "code",
   "execution_count": 56,
   "metadata": {},
   "outputs": [
    {
     "data": {
      "text/plain": [
       "[Row(_c0=0, PRIMARY_KEY='PACKAGE_2020-02-10:761503452610:INV-66448:11:2347048832', AUDIT_CLASSIFICATION_CORRECT=1, AUDIT_CORRECTED_PACKAGE_ID=None, AUDIT_KEG_FLAG_CORRECT=1, AUDIT_NEW_PACKAGE=None, AUDIT_PACKAGE_CORRECT=0, AUDIT_PRODUCT_CORRECT=0, AUDIT_SUB_CLASSIFICATION_CORRECT=None, INVOICE_CASE_EQUIVALENT=0.166666555, INVOICE_ITEM_CLASSIFICATION='PRODUCT', INVOICE_ITEM_QUANTITY_PRICE=20.79, INVOICE_ITEM_SAC_AMOUNT=0.0, INVOICE_ITEM_SUB_CLASSIFICATION=None, INVOICE_ITEM_TOTAL_PRICE=41.58, INVOICE_LLQ=2, INVOICE_PACKAGE_DESCRIPTION='QUAGLIA FERNET 750ML', INVOICE_PROCESS_DATE='2021-01-25', INVOICE_RAW_PACKS_PER_CASE=0, INVOICE_RAW_QUANTITY=2.0, INVOICE_RAW_QUANTITY_PACKAGING='EA', INVOICE_SYSTEM_ID='2020-02-10:761503452610:INV-66448:11:2347048832', INVOICE_TAG_KEG_FLAG=False, INVOICE_UPC_CASE='||', INVOICE_UPC_PACK='|761503452610|', PACKAGE_DISPLAY_NAME='DUBAR FENETTI FERNET AMARGO 1/12 750 ML BOTTLE', PACKAGE_FDC_ID=3472809, UNIT_PRICE=20.79, DISTRIBUTOR_FDC_ID=None, INVOICE_VENDOR_PRODUCT_NUMBER=None, INVOICE_PACKAGE_MATCH_CONFIDENCE=None, INVOICE_PACKAGE_MATCH_MODEL=None, Original Order=None, INVOICE PROCESS DATE=None, INVOICE SYSTEM ID=None, AUDIT_CORRECT_CLASSIFICATION=None, INVOICE_ITEM_FTS_ID=None, PRODUCT_NAME=None, Audit=None, Unnamed=None, AuditName=None, CUSTOM COLUMN=None, INVOICE FTS ID=None, INVOICE ITEM FTS ID=None, INVOICE_FTS_ID=None, INVOICE_UPC_CASE3=None, INVOICE_UPC_PACK2=None, MASTER_CATALOG_DESCRIPTION=None, MASTER_CATALOG_ID=None, MCID=None, PACKAGE_DISPLAY_NAME2=None, UnitPrice=None, INVOICE_PACKAGE_DESCRIPTION_CLEANED=['quaglia', 'fernet', '750', 'ml'], INVOICE_PACKAGE_DESCRIPTION_NGRAM=['quaglia fernet', 'fernet 750', '750 ml'])]"
      ]
     },
     "execution_count": 56,
     "metadata": {},
     "output_type": "execute_result"
    }
   ],
   "source": [
    "ngram_generator = NGram(n=2, inputCol='INVOICE_PACKAGE_DESCRIPTION_CLEANED',\n",
    "                        outputCol='INVOICE_PACKAGE_DESCRIPTION_NGRAM')\n",
    "audit_data_frame = ngram_generator.transform(audit_data_frame)\n",
    "audit_data_frame.head(1)"
   ]
  },
  {
   "cell_type": "code",
   "execution_count": 57,
   "metadata": {},
   "outputs": [
    {
     "data": {
      "text/plain": [
       "[Row(_c0=0, PRIMARY_KEY='PACKAGE_2020-02-10:761503452610:INV-66448:11:2347048832', AUDIT_CLASSIFICATION_CORRECT=1, AUDIT_CORRECTED_PACKAGE_ID=None, AUDIT_KEG_FLAG_CORRECT=1, AUDIT_NEW_PACKAGE=None, AUDIT_PACKAGE_CORRECT=0, AUDIT_PRODUCT_CORRECT=0, AUDIT_SUB_CLASSIFICATION_CORRECT=None, INVOICE_CASE_EQUIVALENT=0.166666555, INVOICE_ITEM_CLASSIFICATION='PRODUCT', INVOICE_ITEM_QUANTITY_PRICE=20.79, INVOICE_ITEM_SAC_AMOUNT=0.0, INVOICE_ITEM_SUB_CLASSIFICATION=None, INVOICE_ITEM_TOTAL_PRICE=41.58, INVOICE_LLQ=2, INVOICE_PACKAGE_DESCRIPTION='QUAGLIA FERNET 750ML', INVOICE_PROCESS_DATE='2021-01-25', INVOICE_RAW_PACKS_PER_CASE=0, INVOICE_RAW_QUANTITY=2.0, INVOICE_RAW_QUANTITY_PACKAGING='EA', INVOICE_SYSTEM_ID='2020-02-10:761503452610:INV-66448:11:2347048832', INVOICE_TAG_KEG_FLAG=False, INVOICE_UPC_CASE='||', INVOICE_UPC_PACK='|761503452610|', PACKAGE_DISPLAY_NAME='DUBAR FENETTI FERNET AMARGO 1/12 750 ML BOTTLE', PACKAGE_FDC_ID=3472809, UNIT_PRICE=20.79, DISTRIBUTOR_FDC_ID=None, INVOICE_VENDOR_PRODUCT_NUMBER=None, INVOICE_PACKAGE_MATCH_CONFIDENCE=None, INVOICE_PACKAGE_MATCH_MODEL=None, Original Order=None, INVOICE PROCESS DATE=None, INVOICE SYSTEM ID=None, AUDIT_CORRECT_CLASSIFICATION=None, INVOICE_ITEM_FTS_ID=None, PRODUCT_NAME=None, Audit=None, Unnamed=None, AuditName=None, CUSTOM COLUMN=None, INVOICE FTS ID=None, INVOICE ITEM FTS ID=None, INVOICE_FTS_ID=None, INVOICE_UPC_CASE3=None, INVOICE_UPC_PACK2=None, MASTER_CATALOG_DESCRIPTION=None, MASTER_CATALOG_ID=None, MCID=None, PACKAGE_DISPLAY_NAME2=None, UnitPrice=None, INVOICE_PACKAGE_DESCRIPTION_CLEANED=['quaglia', 'fernet', '750', 'ml'], INVOICE_PACKAGE_DESCRIPTION_NGRAM=['quaglia fernet', 'fernet 750', '750 ml'], cnt_vec_1=SparseVector(2783, {6: 1.0, 8: 1.0, 2570: 1.0}))]"
      ]
     },
     "execution_count": 57,
     "metadata": {},
     "output_type": "execute_result"
    }
   ],
   "source": [
    "count_vec_1 = CountVectorizer(inputCol='INVOICE_PACKAGE_DESCRIPTION_CLEANED',outputCol='cnt_vec_1', minDF=4)\n",
    "audit_data_frame = count_vec_1.fit(audit_data_frame).transform(audit_data_frame)\n",
    "audit_data_frame.head(1)"
   ]
  },
  {
   "cell_type": "code",
   "execution_count": 58,
   "metadata": {},
   "outputs": [
    {
     "data": {
      "text/plain": [
       "[Row(_c0=0, PRIMARY_KEY='PACKAGE_2020-02-10:761503452610:INV-66448:11:2347048832', AUDIT_CLASSIFICATION_CORRECT=1, AUDIT_CORRECTED_PACKAGE_ID=None, AUDIT_KEG_FLAG_CORRECT=1, AUDIT_NEW_PACKAGE=None, AUDIT_PACKAGE_CORRECT=0, AUDIT_PRODUCT_CORRECT=0, AUDIT_SUB_CLASSIFICATION_CORRECT=None, INVOICE_CASE_EQUIVALENT=0.166666555, INVOICE_ITEM_CLASSIFICATION='PRODUCT', INVOICE_ITEM_QUANTITY_PRICE=20.79, INVOICE_ITEM_SAC_AMOUNT=0.0, INVOICE_ITEM_SUB_CLASSIFICATION=None, INVOICE_ITEM_TOTAL_PRICE=41.58, INVOICE_LLQ=2, INVOICE_PACKAGE_DESCRIPTION='QUAGLIA FERNET 750ML', INVOICE_PROCESS_DATE='2021-01-25', INVOICE_RAW_PACKS_PER_CASE=0, INVOICE_RAW_QUANTITY=2.0, INVOICE_RAW_QUANTITY_PACKAGING='EA', INVOICE_SYSTEM_ID='2020-02-10:761503452610:INV-66448:11:2347048832', INVOICE_TAG_KEG_FLAG=False, INVOICE_UPC_CASE='||', INVOICE_UPC_PACK='|761503452610|', PACKAGE_DISPLAY_NAME='DUBAR FENETTI FERNET AMARGO 1/12 750 ML BOTTLE', PACKAGE_FDC_ID=3472809, UNIT_PRICE=20.79, DISTRIBUTOR_FDC_ID=None, INVOICE_VENDOR_PRODUCT_NUMBER=None, INVOICE_PACKAGE_MATCH_CONFIDENCE=None, INVOICE_PACKAGE_MATCH_MODEL=None, Original Order=None, INVOICE PROCESS DATE=None, INVOICE SYSTEM ID=None, AUDIT_CORRECT_CLASSIFICATION=None, INVOICE_ITEM_FTS_ID=None, PRODUCT_NAME=None, Audit=None, Unnamed=None, AuditName=None, CUSTOM COLUMN=None, INVOICE FTS ID=None, INVOICE ITEM FTS ID=None, INVOICE_FTS_ID=None, INVOICE_UPC_CASE3=None, INVOICE_UPC_PACK2=None, MASTER_CATALOG_DESCRIPTION=None, MASTER_CATALOG_ID=None, MCID=None, PACKAGE_DISPLAY_NAME2=None, UnitPrice=None, INVOICE_PACKAGE_DESCRIPTION_CLEANED=['quaglia', 'fernet', '750', 'ml'], INVOICE_PACKAGE_DESCRIPTION_NGRAM=['quaglia fernet', 'fernet 750', '750 ml'], cnt_vec_1=SparseVector(2783, {6: 1.0, 8: 1.0, 2570: 1.0}), cnt_vec_2=SparseVector(5380, {1: 1.0}))]"
      ]
     },
     "execution_count": 58,
     "metadata": {},
     "output_type": "execute_result"
    }
   ],
   "source": [
    "count_vec_2 = CountVectorizer(inputCol='INVOICE_PACKAGE_DESCRIPTION_NGRAM',outputCol='cnt_vec_2', minDF=4)\n",
    "audit_data_frame = count_vec_2.fit(audit_data_frame).transform(audit_data_frame)\n",
    "audit_data_frame.head(1)"
   ]
  },
  {
   "cell_type": "markdown",
   "metadata": {},
   "source": [
    "# add product_fdc_id"
   ]
  },
  {
   "cell_type": "code",
   "execution_count": 59,
   "metadata": {},
   "outputs": [],
   "source": [
    "entity_package_data_frame = pandas.read_csv('../data/catalog_with_price.csv')"
   ]
  },
  {
   "cell_type": "code",
   "execution_count": 60,
   "metadata": {},
   "outputs": [
    {
     "data": {
      "text/html": [
       "<div>\n",
       "<style scoped>\n",
       "    .dataframe tbody tr th:only-of-type {\n",
       "        vertical-align: middle;\n",
       "    }\n",
       "\n",
       "    .dataframe tbody tr th {\n",
       "        vertical-align: top;\n",
       "    }\n",
       "\n",
       "    .dataframe thead th {\n",
       "        text-align: right;\n",
       "    }\n",
       "</style>\n",
       "<table border=\"1\" class=\"dataframe\">\n",
       "  <thead>\n",
       "    <tr style=\"text-align: right;\">\n",
       "      <th></th>\n",
       "      <th>PACKAGE_FDC_ID</th>\n",
       "      <th>UPC_PACK</th>\n",
       "      <th>PACKAGE_ESD_DISPLAY_NAME</th>\n",
       "      <th>PRODUCT_NAME</th>\n",
       "      <th>ESD_PRODUCT_FDC_ID</th>\n",
       "      <th>BRAND_NAME</th>\n",
       "      <th>BRAND_FDC_ID</th>\n",
       "      <th>PRODUCT_CLASS</th>\n",
       "      <th>PRODUCT_TYPE</th>\n",
       "      <th>UNIT_PRICE</th>\n",
       "      <th>CASE_PRICE</th>\n",
       "      <th>PACK_PRICE</th>\n",
       "    </tr>\n",
       "  </thead>\n",
       "  <tbody>\n",
       "    <tr>\n",
       "      <th>0</th>\n",
       "      <td>3462233</td>\n",
       "      <td>851538002444</td>\n",
       "      <td>10 BARREL PRAY FOR SNOW 1/6 BBL  5.1 GAL KEG</td>\n",
       "      <td>10 BARREL PRAY FOR SNOW</td>\n",
       "      <td>3792448</td>\n",
       "      <td>10 BARREL</td>\n",
       "      <td>4468240</td>\n",
       "      <td>BEER</td>\n",
       "      <td>NaN</td>\n",
       "      <td>126.0</td>\n",
       "      <td>126.0</td>\n",
       "      <td>126.0</td>\n",
       "    </tr>\n",
       "    <tr>\n",
       "      <th>1</th>\n",
       "      <td>3462235</td>\n",
       "      <td>851538002451</td>\n",
       "      <td>10 BARREL PRAY FOR SNOW 1/2 BBL  15.5 GAL KEG</td>\n",
       "      <td>10 BARREL PRAY FOR SNOW</td>\n",
       "      <td>3792448</td>\n",
       "      <td>10 BARREL</td>\n",
       "      <td>4468240</td>\n",
       "      <td>BEER</td>\n",
       "      <td>NaN</td>\n",
       "      <td>210.0</td>\n",
       "      <td>210.0</td>\n",
       "      <td>210.0</td>\n",
       "    </tr>\n",
       "    <tr>\n",
       "      <th>2</th>\n",
       "      <td>3414169</td>\n",
       "      <td>798449002111</td>\n",
       "      <td>ACE PERRY CIDER 4/6 12 OZ BOTTLE</td>\n",
       "      <td>ACE PERRY CIDER</td>\n",
       "      <td>3792483</td>\n",
       "      <td>ACE</td>\n",
       "      <td>4472408</td>\n",
       "      <td>BEER</td>\n",
       "      <td>NaN</td>\n",
       "      <td>5.5</td>\n",
       "      <td>33.0</td>\n",
       "      <td>33.0</td>\n",
       "    </tr>\n",
       "    <tr>\n",
       "      <th>3</th>\n",
       "      <td>3474151</td>\n",
       "      <td>777770000608</td>\n",
       "      <td>ACE PERRY CIDER 1/2 BBL  15.5 GAL KEG</td>\n",
       "      <td>ACE PERRY CIDER</td>\n",
       "      <td>3792483</td>\n",
       "      <td>ACE</td>\n",
       "      <td>4472408</td>\n",
       "      <td>BEER</td>\n",
       "      <td>NaN</td>\n",
       "      <td>210.0</td>\n",
       "      <td>210.0</td>\n",
       "      <td>210.0</td>\n",
       "    </tr>\n",
       "    <tr>\n",
       "      <th>4</th>\n",
       "      <td>3478299</td>\n",
       "      <td>798449002005</td>\n",
       "      <td>ACE PERRY CIDER 1/12 22 OZ BOTTLE</td>\n",
       "      <td>ACE PERRY CIDER</td>\n",
       "      <td>3792483</td>\n",
       "      <td>ACE</td>\n",
       "      <td>4472408</td>\n",
       "      <td>BEER</td>\n",
       "      <td>NaN</td>\n",
       "      <td>3.0</td>\n",
       "      <td>36.0</td>\n",
       "      <td>36.0</td>\n",
       "    </tr>\n",
       "  </tbody>\n",
       "</table>\n",
       "</div>"
      ],
      "text/plain": [
       "   PACKAGE_FDC_ID       UPC_PACK  \\\n",
       "0         3462233  851538002444    \n",
       "1         3462235  851538002451    \n",
       "2         3414169  798449002111    \n",
       "3         3474151  777770000608    \n",
       "4         3478299  798449002005    \n",
       "\n",
       "                        PACKAGE_ESD_DISPLAY_NAME             PRODUCT_NAME  \\\n",
       "0   10 BARREL PRAY FOR SNOW 1/6 BBL  5.1 GAL KEG  10 BARREL PRAY FOR SNOW   \n",
       "1  10 BARREL PRAY FOR SNOW 1/2 BBL  15.5 GAL KEG  10 BARREL PRAY FOR SNOW   \n",
       "2               ACE PERRY CIDER 4/6 12 OZ BOTTLE          ACE PERRY CIDER   \n",
       "3          ACE PERRY CIDER 1/2 BBL  15.5 GAL KEG          ACE PERRY CIDER   \n",
       "4              ACE PERRY CIDER 1/12 22 OZ BOTTLE          ACE PERRY CIDER   \n",
       "\n",
       "   ESD_PRODUCT_FDC_ID BRAND_NAME  BRAND_FDC_ID PRODUCT_CLASS PRODUCT_TYPE  \\\n",
       "0             3792448  10 BARREL       4468240          BEER          NaN   \n",
       "1             3792448  10 BARREL       4468240          BEER          NaN   \n",
       "2             3792483        ACE       4472408          BEER          NaN   \n",
       "3             3792483        ACE       4472408          BEER          NaN   \n",
       "4             3792483        ACE       4472408          BEER          NaN   \n",
       "\n",
       "   UNIT_PRICE  CASE_PRICE  PACK_PRICE  \n",
       "0       126.0       126.0       126.0  \n",
       "1       210.0       210.0       210.0  \n",
       "2         5.5        33.0        33.0  \n",
       "3       210.0       210.0       210.0  \n",
       "4         3.0        36.0        36.0  "
      ]
     },
     "execution_count": 60,
     "metadata": {},
     "output_type": "execute_result"
    }
   ],
   "source": [
    "entity_package_data_frame.head()"
   ]
  },
  {
   "cell_type": "code",
   "execution_count": 61,
   "metadata": {},
   "outputs": [],
   "source": [
    "package_id_product_id_map = entity_package_data_frame.dropna(subset=['PACKAGE_FDC_ID', 'ESD_PRODUCT_FDC_ID'])\\\n",
    "    .set_index('PACKAGE_FDC_ID')['ESD_PRODUCT_FDC_ID'].to_dict()"
   ]
  },
  {
   "cell_type": "code",
   "execution_count": 62,
   "metadata": {},
   "outputs": [],
   "source": [
    "# package_id_product_id_map"
   ]
  },
  {
   "cell_type": "code",
   "execution_count": 63,
   "metadata": {},
   "outputs": [
    {
     "data": {
      "text/plain": [
       "[Row(_c0=0, PRIMARY_KEY='PACKAGE_2020-02-10:761503452610:INV-66448:11:2347048832', AUDIT_CLASSIFICATION_CORRECT=1, AUDIT_CORRECTED_PACKAGE_ID=None, AUDIT_KEG_FLAG_CORRECT=1, AUDIT_NEW_PACKAGE=None, AUDIT_PACKAGE_CORRECT=0, AUDIT_PRODUCT_CORRECT=0, AUDIT_SUB_CLASSIFICATION_CORRECT=None, INVOICE_CASE_EQUIVALENT=0.166666555, INVOICE_ITEM_CLASSIFICATION='PRODUCT', INVOICE_ITEM_QUANTITY_PRICE=20.79, INVOICE_ITEM_SAC_AMOUNT=0.0, INVOICE_ITEM_SUB_CLASSIFICATION=None, INVOICE_ITEM_TOTAL_PRICE=41.58, INVOICE_LLQ=2, INVOICE_PACKAGE_DESCRIPTION='QUAGLIA FERNET 750ML', INVOICE_PROCESS_DATE='2021-01-25', INVOICE_RAW_PACKS_PER_CASE=0, INVOICE_RAW_QUANTITY=2.0, INVOICE_RAW_QUANTITY_PACKAGING='EA', INVOICE_SYSTEM_ID='2020-02-10:761503452610:INV-66448:11:2347048832', INVOICE_TAG_KEG_FLAG=False, INVOICE_UPC_CASE='||', INVOICE_UPC_PACK='|761503452610|', PACKAGE_DISPLAY_NAME='DUBAR FENETTI FERNET AMARGO 1/12 750 ML BOTTLE', PACKAGE_FDC_ID=3472809, UNIT_PRICE=20.79, DISTRIBUTOR_FDC_ID=None, INVOICE_VENDOR_PRODUCT_NUMBER=None, INVOICE_PACKAGE_MATCH_CONFIDENCE=None, INVOICE_PACKAGE_MATCH_MODEL=None, Original Order=None, INVOICE PROCESS DATE=None, INVOICE SYSTEM ID=None, AUDIT_CORRECT_CLASSIFICATION=None, INVOICE_ITEM_FTS_ID=None, PRODUCT_NAME=None, Audit=None, Unnamed=None, AuditName=None, CUSTOM COLUMN=None, INVOICE FTS ID=None, INVOICE ITEM FTS ID=None, INVOICE_FTS_ID=None, INVOICE_UPC_CASE3=None, INVOICE_UPC_PACK2=None, MASTER_CATALOG_DESCRIPTION=None, MASTER_CATALOG_ID=None, MCID=None, PACKAGE_DISPLAY_NAME2=None, UnitPrice=None, INVOICE_PACKAGE_DESCRIPTION_CLEANED=['quaglia', 'fernet', '750', 'ml'], INVOICE_PACKAGE_DESCRIPTION_NGRAM=['quaglia fernet', 'fernet 750', '750 ml'], cnt_vec_1=SparseVector(2783, {6: 1.0, 8: 1.0, 2570: 1.0}), cnt_vec_2=SparseVector(5380, {1: 1.0}), PRODUCT_FDC_ID='4019878')]"
      ]
     },
     "execution_count": 63,
     "metadata": {},
     "output_type": "execute_result"
    }
   ],
   "source": [
    "from pyspark.sql.types import NullType\n",
    "audit_data_frame = audit_data_frame.dropna(subset=['PACKAGE_FDC_ID'])\n",
    "get_product_id = spark_session.udf.register('get_product_id',\n",
    "    lambda package_id: package_id_product_id_map[package_id] \\\n",
    "    if package_id in package_id_product_id_map else NullType())\n",
    "audit_data_frame = audit_data_frame.withColumn('PRODUCT_FDC_ID', get_product_id('PACKAGE_FDC_ID'))\n",
    "audit_data_frame = audit_data_frame.dropna(subset=['PRODUCT_FDC_ID'])\n",
    "audit_data_frame.head(1)"
   ]
  },
  {
   "cell_type": "code",
   "execution_count": 64,
   "metadata": {},
   "outputs": [
    {
     "data": {
      "text/plain": [
       "31069"
      ]
     },
     "execution_count": 64,
     "metadata": {},
     "output_type": "execute_result"
    }
   ],
   "source": [
    "audit_data_frame.count()"
   ]
  },
  {
   "cell_type": "markdown",
   "metadata": {},
   "source": [
    "# data exploration"
   ]
  },
  {
   "cell_type": "code",
   "execution_count": 65,
   "metadata": {},
   "outputs": [
    {
     "data": {
      "text/plain": [
       "35"
      ]
     },
     "execution_count": 65,
     "metadata": {},
     "output_type": "execute_result"
    }
   ],
   "source": [
    "audit_data_frame.createOrReplaceTempView(\"table1\")\n",
    "spark_session.sql(\"\"\"\n",
    "select PRODUCT_FDC_ID from table1\n",
    "group by PRODUCT_FDC_ID having count(*) > 100;\n",
    "\"\"\").count()"
   ]
  },
  {
   "cell_type": "code",
   "execution_count": 66,
   "metadata": {},
   "outputs": [
    {
     "data": {
      "text/plain": [
       "10213"
      ]
     },
     "execution_count": 66,
     "metadata": {},
     "output_type": "execute_result"
    }
   ],
   "source": [
    "product_row_list = spark_session.sql(\"\"\"\n",
    "select PRODUCT_FDC_ID from table1\n",
    "group by PRODUCT_FDC_ID having count(*) > 100;\n",
    "\"\"\").collect()\n",
    "\n",
    "product_list = [row['PRODUCT_FDC_ID'] for row in product_row_list]\n",
    "audit_data_frame = audit_data_frame.filter(audit_data_frame['PRODUCT_FDC_ID'].isin(product_list))\n",
    "audit_data_frame.count()"
   ]
  },
  {
   "cell_type": "code",
   "execution_count": 67,
   "metadata": {},
   "outputs": [
    {
     "data": {
      "text/plain": [
       "[Row(_c0=10, PRIMARY_KEY='PACKAGE_2020-03-24:00320:553258:3:2332841234', AUDIT_CLASSIFICATION_CORRECT=1, AUDIT_CORRECTED_PACKAGE_ID=None, AUDIT_KEG_FLAG_CORRECT=1, AUDIT_NEW_PACKAGE=None, AUDIT_PACKAGE_CORRECT=1, AUDIT_PRODUCT_CORRECT=1, AUDIT_SUB_CLASSIFICATION_CORRECT=None, INVOICE_CASE_EQUIVALENT=1.999998239, INVOICE_ITEM_CLASSIFICATION='PRODUCT', INVOICE_ITEM_QUANTITY_PRICE=17.65, INVOICE_ITEM_SAC_AMOUNT=0.0, INVOICE_ITEM_SUB_CLASSIFICATION=None, INVOICE_ITEM_TOTAL_PRICE=35.3, INVOICE_LLQ=48, INVOICE_PACKAGE_DESCRIPTION='BUD 2/12 CAN', INVOICE_PROCESS_DATE='2021-01-13', INVOICE_RAW_PACKS_PER_CASE=2, INVOICE_RAW_QUANTITY=2.0, INVOICE_RAW_QUANTITY_PACKAGING='CA', INVOICE_SYSTEM_ID='2020-03-24:00320:553258:3:2332841234', INVOICE_TAG_KEG_FLAG=False, INVOICE_UPC_CASE='|00018200110474|', INVOICE_UPC_PACK='|00018200110474|', PACKAGE_DISPLAY_NAME='BUDWEISER 2/12 12 OZ CAN', PACKAGE_FDC_ID=3435433, UNIT_PRICE=None, DISTRIBUTOR_FDC_ID=None, INVOICE_VENDOR_PRODUCT_NUMBER=None, INVOICE_PACKAGE_MATCH_CONFIDENCE=None, INVOICE_PACKAGE_MATCH_MODEL=None, Original Order=None, INVOICE PROCESS DATE=None, INVOICE SYSTEM ID=None, AUDIT_CORRECT_CLASSIFICATION=None, INVOICE_ITEM_FTS_ID=None, PRODUCT_NAME=None, Audit=None, Unnamed=None, AuditName=None, CUSTOM COLUMN=None, INVOICE FTS ID=None, INVOICE ITEM FTS ID=None, INVOICE_FTS_ID=None, INVOICE_UPC_CASE3=None, INVOICE_UPC_PACK2=None, MASTER_CATALOG_DESCRIPTION=None, MASTER_CATALOG_ID=None, MCID=None, PACKAGE_DISPLAY_NAME2=None, UnitPrice=None, INVOICE_PACKAGE_DESCRIPTION_CLEANED=['bud', '2/12', 'can'], INVOICE_PACKAGE_DESCRIPTION_NGRAM=['bud 2/12', '2/12 can'], cnt_vec_1=SparseVector(2783, {2: 1.0, 3: 1.0, 14: 1.0}), cnt_vec_2=SparseVector(5380, {28: 1.0, 215: 1.0}), PRODUCT_FDC_ID='4468697', label=4.0)]"
      ]
     },
     "execution_count": 67,
     "metadata": {},
     "output_type": "execute_result"
    }
   ],
   "source": [
    "from pyspark.ml.feature import StringIndexer\n",
    "str_indexer = StringIndexer(inputCol='PRODUCT_FDC_ID', outputCol='label')\n",
    "audit_data_frame = str_indexer.fit(audit_data_frame).transform(audit_data_frame)\n",
    "audit_data_frame.head(1)"
   ]
  },
  {
   "cell_type": "code",
   "execution_count": 68,
   "metadata": {},
   "outputs": [
    {
     "data": {
      "text/plain": [
       "[Row(_c0=10, PRIMARY_KEY='PACKAGE_2020-03-24:00320:553258:3:2332841234', AUDIT_CLASSIFICATION_CORRECT=1, AUDIT_CORRECTED_PACKAGE_ID=None, AUDIT_KEG_FLAG_CORRECT=1, AUDIT_NEW_PACKAGE=None, AUDIT_PACKAGE_CORRECT=1, AUDIT_PRODUCT_CORRECT=1, AUDIT_SUB_CLASSIFICATION_CORRECT=None, INVOICE_CASE_EQUIVALENT=1.999998239, INVOICE_ITEM_CLASSIFICATION='PRODUCT', INVOICE_ITEM_QUANTITY_PRICE=17.65, INVOICE_ITEM_SAC_AMOUNT=0.0, INVOICE_ITEM_SUB_CLASSIFICATION=None, INVOICE_ITEM_TOTAL_PRICE=35.3, INVOICE_LLQ=48, INVOICE_PACKAGE_DESCRIPTION='BUD 2/12 CAN', INVOICE_PROCESS_DATE='2021-01-13', INVOICE_RAW_PACKS_PER_CASE=2, INVOICE_RAW_QUANTITY=2.0, INVOICE_RAW_QUANTITY_PACKAGING='CA', INVOICE_SYSTEM_ID='2020-03-24:00320:553258:3:2332841234', INVOICE_TAG_KEG_FLAG=False, INVOICE_UPC_CASE='|00018200110474|', INVOICE_UPC_PACK='|00018200110474|', PACKAGE_DISPLAY_NAME='BUDWEISER 2/12 12 OZ CAN', PACKAGE_FDC_ID=3435433, UNIT_PRICE=None, DISTRIBUTOR_FDC_ID=None, INVOICE_VENDOR_PRODUCT_NUMBER=None, INVOICE_PACKAGE_MATCH_CONFIDENCE=None, INVOICE_PACKAGE_MATCH_MODEL=None, Original Order=None, INVOICE PROCESS DATE=None, INVOICE SYSTEM ID=None, AUDIT_CORRECT_CLASSIFICATION=None, INVOICE_ITEM_FTS_ID=None, PRODUCT_NAME=None, Audit=None, Unnamed=None, AuditName=None, CUSTOM COLUMN=None, INVOICE FTS ID=None, INVOICE ITEM FTS ID=None, INVOICE_FTS_ID=None, INVOICE_UPC_CASE3=None, INVOICE_UPC_PACK2=None, MASTER_CATALOG_DESCRIPTION=None, MASTER_CATALOG_ID=None, MCID=None, PACKAGE_DISPLAY_NAME2=None, UnitPrice=None, INVOICE_PACKAGE_DESCRIPTION_CLEANED=['bud', '2/12', 'can'], INVOICE_PACKAGE_DESCRIPTION_NGRAM=['bud 2/12', '2/12 can'], cnt_vec_1=SparseVector(2783, {2: 1.0, 3: 1.0, 14: 1.0}), cnt_vec_2=SparseVector(5380, {28: 1.0, 215: 1.0}), PRODUCT_FDC_ID='4468697', label=4.0, features=SparseVector(8163, {2: 1.0, 3: 1.0, 14: 1.0, 2811: 1.0, 2998: 1.0}))]"
      ]
     },
     "execution_count": 68,
     "metadata": {},
     "output_type": "execute_result"
    }
   ],
   "source": [
    "from pyspark.ml.feature import VectorAssembler\n",
    "vec_assembler = VectorAssembler(inputCols=['cnt_vec_1', 'cnt_vec_2'], outputCol='features')\n",
    "audit_data_frame = vec_assembler.transform(audit_data_frame)\n",
    "audit_data_frame.head(1)"
   ]
  },
  {
   "cell_type": "markdown",
   "metadata": {},
   "source": [
    "# train test split"
   ]
  },
  {
   "cell_type": "code",
   "execution_count": 69,
   "metadata": {},
   "outputs": [
    {
     "data": {
      "text/plain": [
       "[Row(features=SparseVector(8163, {2: 1.0, 3: 1.0, 14: 1.0, 2811: 1.0, 2998: 1.0}), label=4.0)]"
      ]
     },
     "execution_count": 69,
     "metadata": {},
     "output_type": "execute_result"
    }
   ],
   "source": [
    "final_data = audit_data_frame[['features', 'label']]\n",
    "final_data.head(1)"
   ]
  },
  {
   "cell_type": "code",
   "execution_count": 70,
   "metadata": {},
   "outputs": [],
   "source": [
    "train_data, test_data = final_data.randomSplit([0.7, 0.3])"
   ]
  },
  {
   "cell_type": "markdown",
   "metadata": {},
   "source": [
    "# model training"
   ]
  },
  {
   "cell_type": "code",
   "execution_count": 71,
   "metadata": {},
   "outputs": [],
   "source": [
    "from pyspark.ml.classification import NaiveBayes"
   ]
  },
  {
   "cell_type": "code",
   "execution_count": 72,
   "metadata": {},
   "outputs": [],
   "source": [
    "model = NaiveBayes()\n",
    "model = model.fit(train_data)"
   ]
  },
  {
   "cell_type": "markdown",
   "metadata": {},
   "source": [
    "# model evaluation"
   ]
  },
  {
   "cell_type": "code",
   "execution_count": 73,
   "metadata": {},
   "outputs": [],
   "source": [
    "from pyspark.ml.evaluation import MulticlassClassificationEvaluator"
   ]
  },
  {
   "cell_type": "code",
   "execution_count": 74,
   "metadata": {},
   "outputs": [],
   "source": [
    "acc_eval = MulticlassClassificationEvaluator()"
   ]
  },
  {
   "cell_type": "code",
   "execution_count": 75,
   "metadata": {},
   "outputs": [],
   "source": [
    "test_results = model.transform(test_data)"
   ]
  },
  {
   "cell_type": "code",
   "execution_count": 76,
   "metadata": {},
   "outputs": [],
   "source": [
    "test_results = test_results.filter(test_results['prediction'] > 0)"
   ]
  },
  {
   "cell_type": "code",
   "execution_count": 77,
   "metadata": {},
   "outputs": [
    {
     "data": {
      "text/plain": [
       "2541"
      ]
     },
     "execution_count": 77,
     "metadata": {},
     "output_type": "execute_result"
    }
   ],
   "source": [
    "test_results.count()"
   ]
  },
  {
   "cell_type": "code",
   "execution_count": 78,
   "metadata": {},
   "outputs": [
    {
     "name": "stdout",
     "output_type": "stream",
     "text": [
      "F1\n"
     ]
    },
    {
     "data": {
      "text/plain": [
       "0.924552968780588"
      ]
     },
     "execution_count": 78,
     "metadata": {},
     "output_type": "execute_result"
    }
   ],
   "source": [
    "print('F1')\n",
    "acc_eval.evaluate(test_results)"
   ]
  },
  {
   "cell_type": "code",
   "execution_count": 79,
   "metadata": {
    "scrolled": true
   },
   "outputs": [
    {
     "name": "stdout",
     "output_type": "stream",
     "text": [
      "accuracy\n"
     ]
    },
    {
     "data": {
      "text/plain": [
       "0.9287682014954742"
      ]
     },
     "execution_count": 79,
     "metadata": {},
     "output_type": "execute_result"
    }
   ],
   "source": [
    "print('accuracy')\n",
    "acc_eval.evaluate(test_results, {acc_eval.metricName: \"accuracy\"})"
   ]
  },
  {
   "cell_type": "code",
   "execution_count": null,
   "metadata": {},
   "outputs": [],
   "source": []
  }
 ],
 "metadata": {
  "kernelspec": {
   "display_name": "Python (PY_SPARK_CCF_ENV)",
   "language": "python",
   "name": "py_spark_ccf_env"
  },
  "language_info": {
   "codemirror_mode": {
    "name": "ipython",
    "version": 3
   },
   "file_extension": ".py",
   "mimetype": "text/x-python",
   "name": "python",
   "nbconvert_exporter": "python",
   "pygments_lexer": "ipython3",
   "version": "3.6.10"
  },
  "toc": {
   "base_numbering": 1,
   "nav_menu": {},
   "number_sections": true,
   "sideBar": true,
   "skip_h1_title": false,
   "title_cell": "Table of Contents",
   "title_sidebar": "Contents",
   "toc_cell": false,
   "toc_position": {},
   "toc_section_display": true,
   "toc_window_display": true
  }
 },
 "nbformat": 4,
 "nbformat_minor": 2
}
